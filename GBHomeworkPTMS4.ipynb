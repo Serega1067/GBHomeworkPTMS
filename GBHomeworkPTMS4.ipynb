{
 "cells": [
  {
   "cell_type": "markdown",
   "id": "4a37b6e8",
   "metadata": {},
   "source": [
    "## Урок 4. Непрерывная случайная величина"
   ]
  },
  {
   "cell_type": "markdown",
   "id": "a6f734f3",
   "metadata": {},
   "source": [
    "1. Случайная непрерывная величина A имеет равномерное распределение на промежутке (200, 800].\n",
    "Найдите ее среднее значение и дисперсию."
   ]
  },
  {
   "cell_type": "markdown",
   "id": "fc94ecca",
   "metadata": {},
   "source": [
    " Используем формулы нажождения математического ожидания $ M(X)=\\frac{a+b}{2} $ и дисперсии $ D(X)=\\frac{(b-a)^2}{12} $"
   ]
  },
  {
   "cell_type": "code",
   "execution_count": 66,
   "id": "41936461",
   "metadata": {},
   "outputs": [
    {
     "name": "stdout",
     "output_type": "stream",
     "text": [
      "Ответ: \n",
      "M(A) = 500.0 \n",
      "D(A)= 30000.0\n"
     ]
    }
   ],
   "source": [
    "def mean_value(a, b):\n",
    "    return (a + b)/2\n",
    "\n",
    "def variance(a, b):\n",
    "    return ((b - a))**2 / 12\n",
    "\n",
    "a = 200\n",
    "b = 800\n",
    "result1 = mean_value(a, b)\n",
    "result2 = variance(a, b)\n",
    "print(\"Ответ:\", \"\\nM(A) =\", result1, \"\\nD(A)=\", result2)"
   ]
  },
  {
   "cell_type": "markdown",
   "id": "9b807cc5",
   "metadata": {},
   "source": [
    "2. О случайной непрерывной равномерно распределенной величине B известно, что ее дисперсия равна 0.2.\n",
    "Можно ли найти правую границу величины B и ее среднее значение зная, что левая граница равна 0.5?\n",
    "Если да, найдите ее."
   ]
  },
  {
   "cell_type": "markdown",
   "id": "730c5d93",
   "metadata": {},
   "source": [
    "Возьмём формулу нахождения дисперсии и подставим туда известные значения  \n",
    "$ D(X)=\\frac{(b-a)^2}{12} $  \n",
    "D(X) = 0.2  \n",
    "a = 0.5  \n",
    "Найдём b  \n",
    "$ 0.2=\\frac{(b-0.5)^2}{12} $  \n",
    "$ b=0.5+\\sqrt{2.4} $  \n",
    "Теперь найдём среднее значение по формуле  \n",
    "$ M(X)=\\frac{a+b}{2} $"
   ]
  },
  {
   "cell_type": "code",
   "execution_count": 67,
   "id": "686feff4",
   "metadata": {},
   "outputs": [
    {
     "name": "stdout",
     "output_type": "stream",
     "text": [
      "Ответ: \n",
      "Левая граница величины B равна 2.0492 \n",
      "Среднее значение B равно 1.2746\n"
     ]
    }
   ],
   "source": [
    "b = 0.5+2.4**(1/2)\n",
    "print(\"Ответ:\", f\"\\nЛевая граница величины B равна {b:.4f}\", \n",
    "      f\"\\nСреднее значение B равно {mean_value(0.5, b):.4f}\")"
   ]
  },
  {
   "cell_type": "markdown",
   "id": "344ee4ba",
   "metadata": {},
   "source": [
    "3. Непрерывная случайная величина X распределена нормально и задана плотностью распределения  \n",
    "f(x) = (1 / (4 * sqrt(2pi))) * exp((-(x+2)**2) / 32)  \n",
    "Найдите:  \n",
    "а). M(X)  \n",
    "б). D(X)  \n",
    "в). std(X) (среднее квадратичное отклонение)"
   ]
  },
  {
   "cell_type": "markdown",
   "id": "80fb6414",
   "metadata": {},
   "source": [
    "Воспользуемся общей формулой плотности нормального распределения  \n",
    "$ f(x)=\\frac{1}{4*\\sqrt{2\\pi}}*e^{-\\frac{(x+2)^2}{32}} $  \n",
    "M(X) = a = -2  \n",
    "$ \\sigma=4 $  \n",
    "$ D(X)=\\sigma^2=16 $"
   ]
  },
  {
   "cell_type": "markdown",
   "id": "0c53b8f1",
   "metadata": {},
   "source": [
    "Ответ:  \n",
    "M(X) = -2  \n",
    "D(X) = 16  \n",
    "$ \\sigma=4 $"
   ]
  },
  {
   "cell_type": "markdown",
   "id": "457e8157",
   "metadata": {},
   "source": [
    "4. Рост взрослого населения города X имеет нормальное распределение.\n",
    "Причем, средний рост равен 174 см, а среднее квадратичное отклонение равно 8 см.\n",
    "Какова вероятность того, что случайным образом выбранный взрослый человек имеет рост:  \n",
    "а). больше 182 см  \n",
    "б). больше 190 см  \n",
    "в). от 166 см до 190 см  \n",
    "г). от 166 см до 182 см  \n",
    "д). от 158 см до 190 см  \n",
    "е). не выше 150 см или не ниже 190 см  \n",
    "ё). не выше 150 см или не ниже 198 см  \n",
    "ж). ниже 166 см."
   ]
  },
  {
   "cell_type": "code",
   "execution_count": 68,
   "id": "a47a7181",
   "metadata": {},
   "outputs": [],
   "source": [
    "mean_height = 174\n",
    "mean_square_deviation = 8"
   ]
  },
  {
   "cell_type": "code",
   "execution_count": 69,
   "id": "63648155",
   "metadata": {},
   "outputs": [],
   "source": [
    "def z_value(height, mean_height, mean_square_deviation):\n",
    "    '''\n",
    "    Функция для определения z значений для данного распределения\n",
    "    '''\n",
    "    return (height - mean_height) / mean_square_deviation"
   ]
  },
  {
   "cell_type": "markdown",
   "id": "20795dd7",
   "metadata": {},
   "source": [
    "Для расчёта значений вероятности воспользуемся методом cdf объекта NormalDist стандартного модуля statistics"
   ]
  },
  {
   "cell_type": "code",
   "execution_count": 70,
   "id": "87b7d1dd",
   "metadata": {},
   "outputs": [],
   "source": [
    "from statistics import NormalDist"
   ]
  },
  {
   "cell_type": "markdown",
   "id": "8c0e787d",
   "metadata": {},
   "source": [
    "а) рост больше 182 см"
   ]
  },
  {
   "cell_type": "code",
   "execution_count": 71,
   "id": "9966689a",
   "metadata": {},
   "outputs": [
    {
     "data": {
      "text/plain": [
       "1.0"
      ]
     },
     "execution_count": 71,
     "metadata": {},
     "output_type": "execute_result"
    }
   ],
   "source": [
    "temp = z_value(182, mean_height, mean_square_deviation)\n",
    "temp"
   ]
  },
  {
   "cell_type": "code",
   "execution_count": 72,
   "id": "46589b3e",
   "metadata": {},
   "outputs": [
    {
     "data": {
      "text/plain": [
       "0.8413447460685428"
      ]
     },
     "execution_count": 72,
     "metadata": {},
     "output_type": "execute_result"
    }
   ],
   "source": [
    "result = NormalDist().cdf(temp)\n",
    "result"
   ]
  },
  {
   "cell_type": "markdown",
   "id": "f7412e13",
   "metadata": {},
   "source": [
    "Так как P(X >= 182) полученый результат над вычесть из 1"
   ]
  },
  {
   "cell_type": "code",
   "execution_count": 73,
   "id": "23a5727a",
   "metadata": {},
   "outputs": [
    {
     "name": "stdout",
     "output_type": "stream",
     "text": [
      "Ответ: 0.15865525393145719\n"
     ]
    }
   ],
   "source": [
    "print(\"Ответ:\", 1 - result)"
   ]
  },
  {
   "cell_type": "markdown",
   "id": "6341aef6",
   "metadata": {},
   "source": [
    "б) рост больше 190 см"
   ]
  },
  {
   "cell_type": "code",
   "execution_count": 74,
   "id": "09ae89c6",
   "metadata": {},
   "outputs": [
    {
     "data": {
      "text/plain": [
       "2.0"
      ]
     },
     "execution_count": 74,
     "metadata": {},
     "output_type": "execute_result"
    }
   ],
   "source": [
    "temp = z_value(190, mean_height, mean_square_deviation)\n",
    "temp"
   ]
  },
  {
   "cell_type": "code",
   "execution_count": 75,
   "id": "8b6e27eb",
   "metadata": {},
   "outputs": [
    {
     "data": {
      "text/plain": [
       "0.9772498680518209"
      ]
     },
     "execution_count": 75,
     "metadata": {},
     "output_type": "execute_result"
    }
   ],
   "source": [
    "result = NormalDist().cdf(temp)\n",
    "result"
   ]
  },
  {
   "cell_type": "markdown",
   "id": "eebbd56f",
   "metadata": {},
   "source": [
    "Так как P(X >= 190) полученый результат над вычесть из 1"
   ]
  },
  {
   "cell_type": "code",
   "execution_count": 76,
   "id": "5ac8f5bf",
   "metadata": {},
   "outputs": [
    {
     "name": "stdout",
     "output_type": "stream",
     "text": [
      "Ответ: 0.022750131948179098\n"
     ]
    }
   ],
   "source": [
    "print(\"Ответ:\", 1 - result)"
   ]
  },
  {
   "cell_type": "markdown",
   "id": "bd79c335",
   "metadata": {},
   "source": [
    "в) рост от 166 см до 190 см"
   ]
  },
  {
   "cell_type": "code",
   "execution_count": 77,
   "id": "c1e82b85",
   "metadata": {},
   "outputs": [
    {
     "data": {
      "text/plain": [
       "-1.0"
      ]
     },
     "execution_count": 77,
     "metadata": {},
     "output_type": "execute_result"
    }
   ],
   "source": [
    "temp1 = z_value(166, mean_height, mean_square_deviation)\n",
    "temp1"
   ]
  },
  {
   "cell_type": "code",
   "execution_count": 78,
   "id": "53a1edf1",
   "metadata": {},
   "outputs": [
    {
     "data": {
      "text/plain": [
       "2.0"
      ]
     },
     "execution_count": 78,
     "metadata": {},
     "output_type": "execute_result"
    }
   ],
   "source": [
    "temp2 = z_value(190, mean_height, mean_square_deviation)\n",
    "temp2"
   ]
  },
  {
   "cell_type": "code",
   "execution_count": 79,
   "id": "7c9bdee3",
   "metadata": {},
   "outputs": [
    {
     "data": {
      "text/plain": [
       "0.15865525393145713"
      ]
     },
     "execution_count": 79,
     "metadata": {},
     "output_type": "execute_result"
    }
   ],
   "source": [
    "result1 = NormalDist().cdf(temp1)\n",
    "result1"
   ]
  },
  {
   "cell_type": "code",
   "execution_count": 80,
   "id": "2ec6e182",
   "metadata": {},
   "outputs": [
    {
     "data": {
      "text/plain": [
       "0.9772498680518209"
      ]
     },
     "execution_count": 80,
     "metadata": {},
     "output_type": "execute_result"
    }
   ],
   "source": [
    "result2 = NormalDist().cdf(temp2)\n",
    "result2"
   ]
  },
  {
   "cell_type": "code",
   "execution_count": 81,
   "id": "ac80fe0d",
   "metadata": {},
   "outputs": [
    {
     "name": "stdout",
     "output_type": "stream",
     "text": [
      "Ответ: 0.8185946141203637\n"
     ]
    }
   ],
   "source": [
    "print(\"Ответ:\", result2 - result1)"
   ]
  },
  {
   "cell_type": "markdown",
   "id": "17bd0aa3",
   "metadata": {},
   "source": [
    "г) рост от 166 см до 182 см"
   ]
  },
  {
   "cell_type": "code",
   "execution_count": 82,
   "id": "7f98a997",
   "metadata": {},
   "outputs": [
    {
     "data": {
      "text/plain": [
       "-1.0"
      ]
     },
     "execution_count": 82,
     "metadata": {},
     "output_type": "execute_result"
    }
   ],
   "source": [
    "temp1 = z_value(166, mean_height, mean_square_deviation)\n",
    "temp1"
   ]
  },
  {
   "cell_type": "code",
   "execution_count": 83,
   "id": "8089ddda",
   "metadata": {},
   "outputs": [
    {
     "data": {
      "text/plain": [
       "1.0"
      ]
     },
     "execution_count": 83,
     "metadata": {},
     "output_type": "execute_result"
    }
   ],
   "source": [
    "temp2 = z_value(182, mean_height, mean_square_deviation)\n",
    "temp2"
   ]
  },
  {
   "cell_type": "code",
   "execution_count": 84,
   "id": "c8f913cc",
   "metadata": {},
   "outputs": [
    {
     "data": {
      "text/plain": [
       "0.15865525393145713"
      ]
     },
     "execution_count": 84,
     "metadata": {},
     "output_type": "execute_result"
    }
   ],
   "source": [
    "result1 = NormalDist().cdf(temp1)\n",
    "result1"
   ]
  },
  {
   "cell_type": "code",
   "execution_count": 85,
   "id": "79c67078",
   "metadata": {},
   "outputs": [
    {
     "data": {
      "text/plain": [
       "0.8413447460685428"
      ]
     },
     "execution_count": 85,
     "metadata": {},
     "output_type": "execute_result"
    }
   ],
   "source": [
    "result2 = NormalDist().cdf(temp2)\n",
    "result2"
   ]
  },
  {
   "cell_type": "code",
   "execution_count": 86,
   "id": "5a917382",
   "metadata": {},
   "outputs": [
    {
     "name": "stdout",
     "output_type": "stream",
     "text": [
      "Ответ: 0.6826894921370856\n"
     ]
    }
   ],
   "source": [
    "print(\"Ответ:\", result2 - result1)"
   ]
  },
  {
   "cell_type": "markdown",
   "id": "54f8aef2",
   "metadata": {},
   "source": [
    "д) рост от 158 см до 190 см"
   ]
  },
  {
   "cell_type": "code",
   "execution_count": 87,
   "id": "15d8b659",
   "metadata": {},
   "outputs": [
    {
     "data": {
      "text/plain": [
       "-2.0"
      ]
     },
     "execution_count": 87,
     "metadata": {},
     "output_type": "execute_result"
    }
   ],
   "source": [
    "temp1 = z_value(158, mean_height, mean_square_deviation)\n",
    "temp1"
   ]
  },
  {
   "cell_type": "code",
   "execution_count": 88,
   "id": "259fc32d",
   "metadata": {},
   "outputs": [
    {
     "data": {
      "text/plain": [
       "2.0"
      ]
     },
     "execution_count": 88,
     "metadata": {},
     "output_type": "execute_result"
    }
   ],
   "source": [
    "temp2 = z_value(190, mean_height, mean_square_deviation)\n",
    "temp2"
   ]
  },
  {
   "cell_type": "code",
   "execution_count": 89,
   "id": "89fd835a",
   "metadata": {},
   "outputs": [
    {
     "data": {
      "text/plain": [
       "0.022750131948179153"
      ]
     },
     "execution_count": 89,
     "metadata": {},
     "output_type": "execute_result"
    }
   ],
   "source": [
    "result1 = NormalDist().cdf(temp1)\n",
    "result1"
   ]
  },
  {
   "cell_type": "code",
   "execution_count": 90,
   "id": "2ed7e7cb",
   "metadata": {},
   "outputs": [
    {
     "data": {
      "text/plain": [
       "0.9772498680518209"
      ]
     },
     "execution_count": 90,
     "metadata": {},
     "output_type": "execute_result"
    }
   ],
   "source": [
    "result2 = NormalDist().cdf(temp2)\n",
    "result2"
   ]
  },
  {
   "cell_type": "code",
   "execution_count": 91,
   "id": "acb40ec9",
   "metadata": {},
   "outputs": [
    {
     "name": "stdout",
     "output_type": "stream",
     "text": [
      "Ответ: 0.9544997361036418\n"
     ]
    }
   ],
   "source": [
    "print(\"Ответ:\", result2 - result1)"
   ]
  },
  {
   "cell_type": "markdown",
   "id": "f28fb984",
   "metadata": {},
   "source": [
    "е) рост не выше 150 см или не ниже 190 см"
   ]
  },
  {
   "cell_type": "code",
   "execution_count": 92,
   "id": "95e611d8",
   "metadata": {},
   "outputs": [
    {
     "data": {
      "text/plain": [
       "-3.0"
      ]
     },
     "execution_count": 92,
     "metadata": {},
     "output_type": "execute_result"
    }
   ],
   "source": [
    "temp1 = z_value(150, mean_height, mean_square_deviation)\n",
    "temp1"
   ]
  },
  {
   "cell_type": "code",
   "execution_count": 93,
   "id": "af423a95",
   "metadata": {},
   "outputs": [
    {
     "data": {
      "text/plain": [
       "2.0"
      ]
     },
     "execution_count": 93,
     "metadata": {},
     "output_type": "execute_result"
    }
   ],
   "source": [
    "temp2 = z_value(190, mean_height, mean_square_deviation)\n",
    "temp2"
   ]
  },
  {
   "cell_type": "code",
   "execution_count": 94,
   "id": "bb1ed190",
   "metadata": {},
   "outputs": [
    {
     "data": {
      "text/plain": [
       "0.0013498980316301035"
      ]
     },
     "execution_count": 94,
     "metadata": {},
     "output_type": "execute_result"
    }
   ],
   "source": [
    "result1 = NormalDist().cdf(temp1)\n",
    "result1"
   ]
  },
  {
   "cell_type": "code",
   "execution_count": 95,
   "id": "658cd081",
   "metadata": {},
   "outputs": [
    {
     "data": {
      "text/plain": [
       "0.9772498680518209"
      ]
     },
     "execution_count": 95,
     "metadata": {},
     "output_type": "execute_result"
    }
   ],
   "source": [
    "result2 = NormalDist().cdf(temp2)\n",
    "result2"
   ]
  },
  {
   "cell_type": "code",
   "execution_count": 96,
   "id": "71c599d3",
   "metadata": {},
   "outputs": [
    {
     "name": "stdout",
     "output_type": "stream",
     "text": [
      "Ответ: 0.0241000299798092\n"
     ]
    }
   ],
   "source": [
    "print(\"Ответ:\", result1 + (1 - result2))"
   ]
  },
  {
   "cell_type": "markdown",
   "id": "c84dfc02",
   "metadata": {},
   "source": [
    "ё) не выше 150 см или не ниже 198 см"
   ]
  },
  {
   "cell_type": "code",
   "execution_count": 97,
   "id": "facc5800",
   "metadata": {},
   "outputs": [
    {
     "data": {
      "text/plain": [
       "-3.0"
      ]
     },
     "execution_count": 97,
     "metadata": {},
     "output_type": "execute_result"
    }
   ],
   "source": [
    "temp1 = z_value(150, mean_height, mean_square_deviation)\n",
    "temp1"
   ]
  },
  {
   "cell_type": "code",
   "execution_count": 98,
   "id": "06ffa726",
   "metadata": {},
   "outputs": [
    {
     "data": {
      "text/plain": [
       "3.0"
      ]
     },
     "execution_count": 98,
     "metadata": {},
     "output_type": "execute_result"
    }
   ],
   "source": [
    "temp2 = z_value(198, mean_height, mean_square_deviation)\n",
    "temp2"
   ]
  },
  {
   "cell_type": "code",
   "execution_count": 99,
   "id": "6cc7649b",
   "metadata": {},
   "outputs": [
    {
     "data": {
      "text/plain": [
       "0.0013498980316301035"
      ]
     },
     "execution_count": 99,
     "metadata": {},
     "output_type": "execute_result"
    }
   ],
   "source": [
    "result1 = NormalDist().cdf(temp1)\n",
    "result1"
   ]
  },
  {
   "cell_type": "code",
   "execution_count": 100,
   "id": "8ec53810",
   "metadata": {},
   "outputs": [
    {
     "data": {
      "text/plain": [
       "0.9986501019683699"
      ]
     },
     "execution_count": 100,
     "metadata": {},
     "output_type": "execute_result"
    }
   ],
   "source": [
    "result2 = NormalDist().cdf(temp2)\n",
    "result2"
   ]
  },
  {
   "cell_type": "code",
   "execution_count": 101,
   "id": "4bf0354e",
   "metadata": {},
   "outputs": [
    {
     "name": "stdout",
     "output_type": "stream",
     "text": [
      "Ответ: 0.002699796063260207\n"
     ]
    }
   ],
   "source": [
    "print(\"Ответ:\", result1 + (1 - result2))"
   ]
  },
  {
   "cell_type": "markdown",
   "id": "dd016db3",
   "metadata": {},
   "source": [
    "ж) рост ниже 166 см"
   ]
  },
  {
   "cell_type": "code",
   "execution_count": 102,
   "id": "dc9f18cd",
   "metadata": {},
   "outputs": [
    {
     "data": {
      "text/plain": [
       "-1.0"
      ]
     },
     "execution_count": 102,
     "metadata": {},
     "output_type": "execute_result"
    }
   ],
   "source": [
    "temp = z_value(166, mean_height, mean_square_deviation)\n",
    "temp"
   ]
  },
  {
   "cell_type": "code",
   "execution_count": 103,
   "id": "746f2178",
   "metadata": {},
   "outputs": [
    {
     "data": {
      "text/plain": [
       "0.15865525393145713"
      ]
     },
     "execution_count": 103,
     "metadata": {},
     "output_type": "execute_result"
    }
   ],
   "source": [
    "result = NormalDist().cdf(temp)\n",
    "result"
   ]
  },
  {
   "cell_type": "code",
   "execution_count": 104,
   "id": "c1e7ef92",
   "metadata": {},
   "outputs": [
    {
     "name": "stdout",
     "output_type": "stream",
     "text": [
      "Ответ: 0.15865525393145713\n"
     ]
    }
   ],
   "source": [
    "print(\"Ответ:\", result)"
   ]
  },
  {
   "cell_type": "markdown",
   "id": "fd582ef2",
   "metadata": {},
   "source": [
    "5. На сколько сигм (средних квадратичных отклонений) отклоняется рост человека, равный 190 см, от\n",
    "математического ожидания роста в популяции, в которой M(X) = 178 см и D(X) = 25 кв.см?"
   ]
  },
  {
   "cell_type": "markdown",
   "id": "0943ad2e",
   "metadata": {},
   "source": [
    "Воспользуемся формулой  \n",
    "$ Z=\\frac{X-\\bar{x}}{\\sigma}=\\frac{190-178}{\\sqrt{25}}=\\frac{12}{5} $"
   ]
  },
  {
   "cell_type": "code",
   "execution_count": 105,
   "id": "dd51f2bd",
   "metadata": {},
   "outputs": [
    {
     "name": "stdout",
     "output_type": "stream",
     "text": [
      "Ответ: \n",
      "Рост человека отклоняется от математического ожидания на 2.4 сигм\n"
     ]
    }
   ],
   "source": [
    "Z = (190-178) / 25**(1/2)\n",
    "print(\"Ответ:\", f\"\\nРост человека отклоняется от математического ожидания на {Z} сигм\")"
   ]
  }
 ],
 "metadata": {
  "kernelspec": {
   "display_name": "Python 3 (ipykernel)",
   "language": "python",
   "name": "python3"
  },
  "language_info": {
   "codemirror_mode": {
    "name": "ipython",
    "version": 3
   },
   "file_extension": ".py",
   "mimetype": "text/x-python",
   "name": "python",
   "nbconvert_exporter": "python",
   "pygments_lexer": "ipython3",
   "version": "3.9.12"
  }
 },
 "nbformat": 4,
 "nbformat_minor": 5
}
