{
 "cells": [
  {
   "cell_type": "markdown",
   "id": "db2b5880",
   "metadata": {},
   "source": [
    "# Урок 8. Корреляционный анализ"
   ]
  },
  {
   "cell_type": "markdown",
   "id": "87fafda4",
   "metadata": {},
   "source": [
    "1. Даны значения величины заработной платы заемщиков банка (zp) и значения их поведенческого кредитного скоринга (ks):  \n",
    "zp = [35, 45, 190, 200, 40, 70, 54, 150, 120, 110],  \n",
    "ks = [401, 574, 874, 919, 459, 739, 653, 902, 746, 832].  \n",
    "Найдите ковариацию этих двух величин с помощью элементарных действий, а затем с помощью функции cov из numpy  \n",
    "Полученные значения должны быть равны.  \n",
    "Найдите коэффициент корреляции Пирсона с помощью ковариации и среднеквадратичных отклонений двух признаков, а затем с использованием функций из библиотек numpy и pandas."
   ]
  },
  {
   "cell_type": "markdown",
   "id": "531ab49a",
   "metadata": {},
   "source": [
    "Расчёт ковариации по формуле  \n",
    "$ cov_{XY}=M[(X-M(X))(Y-M(Y))]=M(XY)-M(X)M(Y)=\\bar{X*Y}-\\bar{X}*\\bar{Y} $"
   ]
  },
  {
   "cell_type": "code",
   "execution_count": 2,
   "id": "d22611b4",
   "metadata": {},
   "outputs": [],
   "source": [
    "import numpy as np\n",
    "import pandas as pd\n",
    "from scipy import stats\n",
    "from matplotlib import pyplot as plt"
   ]
  },
  {
   "cell_type": "code",
   "execution_count": 6,
   "id": "4a472af2",
   "metadata": {},
   "outputs": [
    {
     "name": "stdout",
     "output_type": "stream",
     "text": [
      "ковариация смещённая: 9157.839999999997\n"
     ]
    }
   ],
   "source": [
    "zp = [35, 45, 190, 200, 40, 70, 54, 150, 120, 110]\n",
    "ks = [401, 574, 874, 919, 459, 739, 653, 902, 746, 832]\n",
    "\n",
    "XY = 0\n",
    "X = 0\n",
    "Y = 0\n",
    "n = len(zp)\n",
    "for i in range(0, n):\n",
    "    XY = XY + zp[i] * ks[i]\n",
    "    X = X + zp[i]\n",
    "    Y = Y + ks[i]\n",
    "\n",
    "X_avg = X/n\n",
    "Y_avg = Y/n\n",
    "cov = XY/n - X_avg * Y_avg\n",
    "\n",
    "print(f\"ковариация смещённая: {cov}\")"
   ]
  },
  {
   "cell_type": "code",
   "execution_count": 7,
   "id": "53d7c7df",
   "metadata": {},
   "outputs": [
    {
     "data": {
      "text/plain": [
       "array([[ 3494.64,  9157.84],\n",
       "       [ 9157.84, 30468.89]])"
      ]
     },
     "execution_count": 7,
     "metadata": {},
     "output_type": "execute_result"
    }
   ],
   "source": [
    "# посчитаем с помощью функции\n",
    "np.cov(zp, ks, ddof=0)"
   ]
  },
  {
   "cell_type": "markdown",
   "id": "95c28f3f",
   "metadata": {},
   "source": [
    "Несмещённую оценку прсчитаем по формуле  \n",
    "$ \\sigma_{xy}=\\frac{1}{n-1}\\displaystyle\\sum_{i=1}^{n}(x_i-\\bar{x})*(y_i-\\bar{y}) $"
   ]
  },
  {
   "cell_type": "code",
   "execution_count": 8,
   "id": "18eae1d4",
   "metadata": {},
   "outputs": [
    {
     "name": "stdout",
     "output_type": "stream",
     "text": [
      "ковариация несмещённая: 10175.377777777776\n"
     ]
    }
   ],
   "source": [
    "sum1 = 0\n",
    "for i in range(0, n):\n",
    "    sum1 = sum1 + (zp[i] - X_avg) * (ks[i] - Y_avg)\n",
    "\n",
    "cov1 = 1 / (n - 1) * sum1\n",
    "\n",
    "print(f\"ковариация несмещённая: {cov1}\")"
   ]
  },
  {
   "cell_type": "code",
   "execution_count": 11,
   "id": "6d75d8b3",
   "metadata": {},
   "outputs": [
    {
     "data": {
      "text/plain": [
       "array([[ 3882.93333333, 10175.37777778],\n",
       "       [10175.37777778, 33854.32222222]])"
      ]
     },
     "execution_count": 11,
     "metadata": {},
     "output_type": "execute_result"
    }
   ],
   "source": [
    "# посчитаем с помощью функции\n",
    "np.cov(zp, ks, ddof=1)"
   ]
  },
  {
   "cell_type": "markdown",
   "id": "95cd0149",
   "metadata": {},
   "source": [
    "Найдём коэффициент корреляции Пирсона"
   ]
  },
  {
   "cell_type": "markdown",
   "id": "db4e2fb1",
   "metadata": {},
   "source": [
    "$ r_{XY}=\\frac{\\sigma_{XY}}{\\sigma_X*\\sigma_Y}, $  \n",
    "где $ \\sigma_X, \\sigma_Y $ - среднее квадратическое отклонение  \n",
    "Среднее квадратическое отклонение можно найти по формуле расчёта дисперсии  \n",
    "$ \\sigma^2=\\frac{1}{m}\\displaystyle\\sum_{i=1}^m(x_i-\\bar{x})^2 $"
   ]
  },
  {
   "cell_type": "code",
   "execution_count": 12,
   "id": "7faff1ed",
   "metadata": {},
   "outputs": [
    {
     "name": "stdout",
     "output_type": "stream",
     "text": [
      "3494.6400000000003 59.115480206118605\n",
      "30468.89000000001 174.55340157098058\n"
     ]
    }
   ],
   "source": [
    "sum_X = 0\n",
    "sum_Y = 0\n",
    "for i in range(0, n):\n",
    "    sum_X = sum_X + (zp[i] - X_avg)**2\n",
    "    sum_Y = sum_Y + (ks[i] - Y_avg)**2\n",
    "\n",
    "Dx = 1/(n)*sum_X\n",
    "Dy = 1/(n)*sum_Y\n",
    "scale_X = Dx**0.5\n",
    "scale_Y = Dy**0.5\n",
    "print(Dx, scale_X)\n",
    "print(Dy, scale_Y)"
   ]
  },
  {
   "cell_type": "code",
   "execution_count": 16,
   "id": "d9b565d3",
   "metadata": {},
   "outputs": [
    {
     "name": "stdout",
     "output_type": "stream",
     "text": [
      "r = 0.8874900920739158\n"
     ]
    }
   ],
   "source": [
    "r = cov/(scale_X * scale_Y)\n",
    "print(\"r =\", r)"
   ]
  },
  {
   "cell_type": "code",
   "execution_count": 30,
   "id": "377a21fe",
   "metadata": {},
   "outputs": [
    {
     "name": "stdout",
     "output_type": "stream",
     "text": [
      "Ответ:\n"
     ]
    },
    {
     "data": {
      "text/plain": [
       "array([[1.        , 0.88749009],\n",
       "       [0.88749009, 1.        ]])"
      ]
     },
     "execution_count": 30,
     "metadata": {},
     "output_type": "execute_result"
    }
   ],
   "source": [
    "# посчитаем с помощью функции\n",
    "print(\"Ответ:\")\n",
    "np.corrcoef(zp, ks)"
   ]
  },
  {
   "cell_type": "markdown",
   "id": "c1265e56",
   "metadata": {},
   "source": [
    "2. Измерены значения IQ выборки студентов, обучающихся в местных технических вузах:  \n",
    "131, 125, 115, 122, 131, 115, 107, 99, 125, 111.  \n",
    "Известно, что в генеральной совокупности IQ распределен нормально.  \n",
    "Найдите доверительный интервал для математического ожидания с надежностью 0.95."
   ]
  },
  {
   "cell_type": "code",
   "execution_count": 31,
   "id": "5baf24ac",
   "metadata": {},
   "outputs": [
    {
     "name": "stdout",
     "output_type": "stream",
     "text": [
      "10\n",
      "118.1\n",
      "10.54566788359614\n"
     ]
    }
   ],
   "source": [
    "IQ = [131, 125, 115, 122, 131, 115, 107, 99, 125, 111]\n",
    "\n",
    "# найдём среднее по выборке и среднее квадратическое отклонение\n",
    "n = len(IQ)\n",
    "mean_v = sum(IQ)/n\n",
    "sum_v = 0\n",
    "for i in range(0, n):\n",
    "    sum_v = sum_v + (IQ[i] - mean_v)**2\n",
    "\n",
    "scale_v = (1/(n - 1) * sum_v)**0.5\n",
    "print(n)\n",
    "print(mean_v)\n",
    "print(scale_v)"
   ]
  },
  {
   "cell_type": "code",
   "execution_count": 32,
   "id": "af484ddb",
   "metadata": {},
   "outputs": [
    {
     "data": {
      "text/plain": [
       "2.2621571627409915"
      ]
     },
     "execution_count": 32,
     "metadata": {},
     "output_type": "execute_result"
    }
   ],
   "source": [
    "# так как дисперсия неизвестна используем t-распределение и t-статистику Стьюдента\n",
    "p = 0.95\n",
    "alpha = 1 - p\n",
    "t = stats.t.ppf(1 - alpha / 2, df = n - 1)\n",
    "t"
   ]
  },
  {
   "cell_type": "markdown",
   "id": "933b26a3",
   "metadata": {},
   "source": [
    "Доверительный интервал для параметра $ \\alpha $  \n",
    "$ P(\\bar{X}-t_{1-\\frac{\\alpha}{2}}*\\frac{\\sigma}{\\sqrt{n}}\\leq\\alpha\\leq\\bar{X}+t_{1-\\frac{\\alpha}{2}}*\\frac{\\sigma}{\\sqrt{n}})=p $"
   ]
  },
  {
   "cell_type": "code",
   "execution_count": 33,
   "id": "736f07d7",
   "metadata": {},
   "outputs": [
    {
     "name": "stdout",
     "output_type": "stream",
     "text": [
      "Ответ:\n"
     ]
    },
    {
     "data": {
      "text/plain": [
       "(110.55608365158724, 125.64391634841274)"
      ]
     },
     "execution_count": 33,
     "metadata": {},
     "output_type": "execute_result"
    }
   ],
   "source": [
    "# доверительный интервал\n",
    "print(\"Ответ:\")\n",
    "(mean_v - t * scale_v / np.sqrt(n), mean_v + t * scale_v / np.sqrt(n))"
   ]
  },
  {
   "cell_type": "markdown",
   "id": "52853838",
   "metadata": {},
   "source": [
    "3. Известно, что рост футболистов в сборной распределен нормально с дисперсией генеральной совокупности, равной 25 кв.см. Объем выборки равен 27, среднее выборочное составляет 174.2. Найдите доверительный интервал для математического ожидания с надежностью 0.95."
   ]
  },
  {
   "cell_type": "markdown",
   "id": "39b31cb7",
   "metadata": {},
   "source": [
    "Так как распределение нормальное и известна дисперсия воспользуемся формулой  \n",
    "$ T(X)=\\frac{\\bar{X}-\\alpha}{\\frac{\\sigma}{\\sqrt{n}}} $  \n",
    "$ P(\\bar{X}-t_{1-\\frac{\\alpha}{2}}*\\frac{\\sigma}{\\sqrt{n}}\\leq\\alpha\\leq\\bar{X}+t_{1-\\frac{\\alpha}{2}}*\\frac{\\sigma}{\\sqrt{n}})=p $"
   ]
  },
  {
   "cell_type": "code",
   "execution_count": 34,
   "id": "f3aab9f9",
   "metadata": {},
   "outputs": [
    {
     "data": {
      "text/plain": [
       "1.959963984540054"
      ]
     },
     "execution_count": 34,
     "metadata": {},
     "output_type": "execute_result"
    }
   ],
   "source": [
    "n = 27\n",
    "D = 25\n",
    "scale = 5\n",
    "mean = 174.2\n",
    "p = 0.95\n",
    "alpha = 1 - p\n",
    "t = stats.norm.ppf(1 - alpha/2)\n",
    "t"
   ]
  },
  {
   "cell_type": "code",
   "execution_count": 35,
   "id": "b9949621",
   "metadata": {},
   "outputs": [
    {
     "name": "stdout",
     "output_type": "stream",
     "text": [
      "Ответ:\n"
     ]
    },
    {
     "data": {
      "text/plain": [
       "(172.3140237765397, 176.08597622346028)"
      ]
     },
     "execution_count": 35,
     "metadata": {},
     "output_type": "execute_result"
    }
   ],
   "source": [
    "# доверительный интервал\n",
    "print(\"Ответ:\")\n",
    "(mean - t * scale / np.sqrt(n), mean + t * scale / np.sqrt(n))"
   ]
  }
 ],
 "metadata": {
  "kernelspec": {
   "display_name": "Python 3 (ipykernel)",
   "language": "python",
   "name": "python3"
  },
  "language_info": {
   "codemirror_mode": {
    "name": "ipython",
    "version": 3
   },
   "file_extension": ".py",
   "mimetype": "text/x-python",
   "name": "python",
   "nbconvert_exporter": "python",
   "pygments_lexer": "ipython3",
   "version": "3.9.12"
  }
 },
 "nbformat": 4,
 "nbformat_minor": 5
}
