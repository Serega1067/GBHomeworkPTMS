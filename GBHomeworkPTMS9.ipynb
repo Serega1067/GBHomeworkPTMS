{
 "cells": [
  {
   "cell_type": "markdown",
   "id": "0de0131c",
   "metadata": {},
   "source": [
    "# Урок 9. Линейная регрессия Логистическая регрессия"
   ]
  },
  {
   "cell_type": "markdown",
   "id": "ab303d34",
   "metadata": {},
   "source": [
    "1. Даны значения величины заработной платы заемщиков банка (zp) и значения их поведенческого кредитного скоринга (ks):  \n",
    "zp = [35, 45, 190, 200, 40, 70, 54, 150, 120, 110],  \n",
    "ks = [401, 574, 874, 919, 459, 739, 653, 902, 746, 832].  \n",
    "Используя математические операции, посчитать коэффициенты линейной регрессии, приняв за X заработную плату (то есть, zp - признак), а за y - значения скорингового балла (то есть, ks - целевая переменная).  \n",
    "Произвести расчет как с использованием intercept, так и без."
   ]
  },
  {
   "cell_type": "code",
   "execution_count": 39,
   "id": "ef46815a",
   "metadata": {},
   "outputs": [],
   "source": [
    "import numpy as np\n",
    "import pandas as pd\n",
    "import matplotlib.pyplot as plt"
   ]
  },
  {
   "cell_type": "code",
   "execution_count": 40,
   "id": "f758d4d2",
   "metadata": {},
   "outputs": [],
   "source": [
    "zp = np.array([35, 45, 190, 200, 40, 70, 54, 150, 120, 110])\n",
    "ks = np.array([401, 574, 874, 919, 459, 739, 653, 902, 746, 832])"
   ]
  },
  {
   "cell_type": "code",
   "execution_count": 41,
   "id": "034c1344",
   "metadata": {},
   "outputs": [
    {
     "data": {
      "image/png": "[encoded data removed]",
      "text/plain": [
       "<Figure size 432x288 with 1 Axes>"
      ]
     },
     "metadata": {
      "needs_background": "light"
     },
     "output_type": "display_data"
    }
   ],
   "source": [
    "plt.scatter(zp,ks)\n",
    "plt.xlabel('Величина заработной платы')\n",
    "plt.ylabel('Поведенческий кредитный скоринг', rotation=90)\n",
    "plt.show()"
   ]
  },
  {
   "cell_type": "markdown",
   "id": "a4e665f2",
   "metadata": {},
   "source": [
    "Благодоря графику видна линейная взаимосвязь между зависимой и независимой переменными  \n",
    "$ ks=a+b*zp $  \n",
    "Найдём коэффициент b по формуле:  \n",
    "$ b=\\frac{\\bar{xy}-\\bar{x}*\\bar{y}}{\\bar{x^2}-\\bar{x}^2} $"
   ]
  },
  {
   "cell_type": "code",
   "execution_count": 42,
   "id": "516f062b",
   "metadata": {},
   "outputs": [
    {
     "data": {
      "text/plain": [
       "2.620538882402765"
      ]
     },
     "execution_count": 42,
     "metadata": {},
     "output_type": "execute_result"
    }
   ],
   "source": [
    "b = (np.mean(zp * ks) - np.mean(zp) * np.mean(ks))/(np.mean(zp**2) - np.mean(zp)**2)\n",
    "b"
   ]
  },
  {
   "cell_type": "markdown",
   "id": "17af8ea9",
   "metadata": {},
   "source": [
    "Найдём величину интерсепта $ a $ которая будет показывать чему будет равна зависимая переменная, если независимая равна 0.  \n",
    "Расчитаем интерсепт по формуле:  \n",
    "$ a=\\bar{y}-b*\\bar{x}=\\bar{ks}-b*\\bar{zp} $"
   ]
  },
  {
   "cell_type": "code",
   "execution_count": 43,
   "id": "2351f5ad",
   "metadata": {},
   "outputs": [
    {
     "data": {
      "text/plain": [
       "444.1773573243596"
      ]
     },
     "execution_count": 43,
     "metadata": {},
     "output_type": "execute_result"
    }
   ],
   "source": [
    "a = np.mean(ks) - b * np.mean(zp)\n",
    "a"
   ]
  },
  {
   "cell_type": "markdown",
   "id": "f2ba8886",
   "metadata": {},
   "source": [
    "Линейную взаимосвязь между заработной платой и кредитным скорингом можно описать функцией:\n",
    "$ y_{pred}=444.18+2.62*zp $"
   ]
  },
  {
   "cell_type": "code",
   "execution_count": 44,
   "id": "7bcfad8c",
   "metadata": {},
   "outputs": [
    {
     "data": {
      "text/plain": [
       "array([535.88, 562.08, 941.98, 968.18, 548.98, 627.58, 585.66, 837.18,\n",
       "       758.58, 732.38])"
      ]
     },
     "execution_count": 44,
     "metadata": {},
     "output_type": "execute_result"
    }
   ],
   "source": [
    "y_pred = 444.18 + 2.62 * zp\n",
    "y_pred"
   ]
  },
  {
   "cell_type": "markdown",
   "id": "3b8ad335",
   "metadata": {},
   "source": [
    "Рассмотрим ещё один метод нахождения коэффициентов с помощью матричного метода без использования intercept."
   ]
  },
  {
   "cell_type": "markdown",
   "id": "e0af01de",
   "metadata": {},
   "source": [
    "$ y=b_0+b_1x $  \n",
    "$ Y=X*B $  \n",
    "$ \\begin{pmatrix}\n",
    "    y_1\\\\\n",
    "    y_2\\\\\n",
    "    y_3\n",
    "  \\end{pmatrix} = \n",
    "\\begin{pmatrix}\n",
    "    x_1\\\\\n",
    "    x_2\\\\\n",
    "    x_3\n",
    "  \\end{pmatrix} \n",
    "  \\begin{pmatrix}\n",
    "    \\beta_0\\\\\n",
    "    \\beta_1\n",
    "  \\end{pmatrix} $  \n",
    "$ B=(X^T*X)^{-1}*X^T*Y $"
   ]
  },
  {
   "cell_type": "code",
   "execution_count": 45,
   "id": "3668df4e",
   "metadata": {},
   "outputs": [
    {
     "data": {
      "text/plain": [
       "array([[ 35],\n",
       "       [ 45],\n",
       "       [190],\n",
       "       [200],\n",
       "       [ 40],\n",
       "       [ 70],\n",
       "       [ 54],\n",
       "       [150],\n",
       "       [120],\n",
       "       [110]])"
      ]
     },
     "execution_count": 45,
     "metadata": {},
     "output_type": "execute_result"
    }
   ],
   "source": [
    "x = zp.reshape((-1, 1))\n",
    "x"
   ]
  },
  {
   "cell_type": "code",
   "execution_count": 46,
   "id": "168d6538",
   "metadata": {},
   "outputs": [
    {
     "data": {
      "text/plain": [
       "array([[401],\n",
       "       [574],\n",
       "       [874],\n",
       "       [919],\n",
       "       [459],\n",
       "       [739],\n",
       "       [653],\n",
       "       [902],\n",
       "       [746],\n",
       "       [832]])"
      ]
     },
     "execution_count": 46,
     "metadata": {},
     "output_type": "execute_result"
    }
   ],
   "source": [
    "y = ks.reshape((-1, 1))\n",
    "y"
   ]
  },
  {
   "cell_type": "code",
   "execution_count": 47,
   "id": "763ad2e7",
   "metadata": {},
   "outputs": [
    {
     "data": {
      "text/plain": [
       "array([[5.88982042]])"
      ]
     },
     "execution_count": 47,
     "metadata": {},
     "output_type": "execute_result"
    }
   ],
   "source": [
    "B = np.dot(np.linalg.inv(np.dot(x.T, x)), np.dot(x.T, y))\n",
    "B"
   ]
  },
  {
   "cell_type": "markdown",
   "id": "a178ee82",
   "metadata": {},
   "source": [
    "2. Посчитать коэффициент линейной регрессии при заработной плате (zp), используя градиентный спуск (без intercept). "
   ]
  },
  {
   "cell_type": "markdown",
   "id": "238f8c8a",
   "metadata": {},
   "source": [
    "$ y=\\beta_1x $"
   ]
  },
  {
   "cell_type": "code",
   "execution_count": 54,
   "id": "0007904b",
   "metadata": {},
   "outputs": [],
   "source": [
    "def mse_(B1, y = y, x = x, n = len(y)):\n",
    "    return np.sum((B1 * x - y)**2)/ n\n",
    "\n",
    "alpha = 1e-6\n",
    "\n",
    "# mse = 1/n * np.sum((B1 * x - y)**2)\n",
    "# mse = (2/n) * np.sum((B1 * x - y) * x)\n",
    "\n",
    "B1 = 0.1\n",
    "n = len(x)"
   ]
  },
  {
   "cell_type": "code",
   "execution_count": 63,
   "id": "7d2da388",
   "metadata": {},
   "outputs": [
    {
     "name": "stdout",
     "output_type": "stream",
     "text": [
      "B1 = {} 3.834030908020559\n",
      "B1 = {} 3.890674487605687\n",
      "B1 = {} 3.94575735531379\n",
      "B1 = {} 3.999322513751358\n",
      "B1 = {} 4.051411780665465\n",
      "B1 = {} 4.102065821590433\n",
      "B1 = {} 4.151324181594987\n",
      "B1 = {} 4.1992253161546635\n",
      "B1 = {} 4.245806621173591\n",
      "B1 = {} 4.291104462179071\n"
     ]
    }
   ],
   "source": [
    "for i in range(10):\n",
    "    B1 -= alpha * (2/n) * np.sum((B1 * x - y) * x)\n",
    "    print('B1 = {}',format(B1))"
   ]
  },
  {
   "cell_type": "code",
   "execution_count": 64,
   "id": "b2d77b2f",
   "metadata": {},
   "outputs": [
    {
     "name": "stdout",
     "output_type": "stream",
     "text": [
      "Iteranion = 0, B1 = 4.335154202711759, mse = 89814.72217554647\n",
      "Iteranion = 500, B1 = 5.889819087952619, mse = 56516.858415743845\n",
      "Iteranion = 1000, B1 = 5.889820420131547, mse = 56516.8584157194\n",
      "Iteranion = 1500, B1 = 5.889820420132673, mse = 56516.85841571943\n",
      "Iteranion = 2000, B1 = 5.889820420132673, mse = 56516.85841571943\n",
      "Iteranion = 2500, B1 = 5.889820420132673, mse = 56516.85841571943\n"
     ]
    }
   ],
   "source": [
    "for i in range(3000):\n",
    "    B1 -= alpha * (2/n) * np.sum((B1 * x - y) * x)\n",
    "    if i % 500 == 0:\n",
    "        print('Iteranion = {i}, B1 = {B1}, mse = {mse}'.format(i=i, B1=B1, mse=mse_(B1)))"
   ]
  },
  {
   "cell_type": "code",
   "execution_count": 65,
   "id": "ccfafce2",
   "metadata": {},
   "outputs": [
    {
     "data": {
      "text/plain": [
       "89814.73085891386"
      ]
     },
     "execution_count": 65,
     "metadata": {},
     "output_type": "execute_result"
    }
   ],
   "source": [
    "mse_(4.335154)"
   ]
  }
 ],
 "metadata": {
  "kernelspec": {
   "display_name": "Python 3 (ipykernel)",
   "language": "python",
   "name": "python3"
  },
  "language_info": {
   "codemirror_mode": {
    "name": "ipython",
    "version": 3
   },
   "file_extension": ".py",
   "mimetype": "text/x-python",
   "name": "python",
   "nbconvert_exporter": "python",
   "pygments_lexer": "ipython3",
   "version": "3.9.12"
  }
 },
 "nbformat": 4,
 "nbformat_minor": 5
}
