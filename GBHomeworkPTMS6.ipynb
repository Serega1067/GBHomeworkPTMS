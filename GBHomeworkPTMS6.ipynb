{
 "cells": [
  {
   "cell_type": "markdown",
   "id": "bd496c22",
   "metadata": {},
   "source": [
    "# Урок 6. Сравнение долей. Построение доверительного интервала"
   ]
  },
  {
   "cell_type": "markdown",
   "id": "1370331f",
   "metadata": {},
   "source": [
    "1. Известно, что генеральная совокупность распределена нормально\n",
    "со средним квадратическим отклонением, равным 16.\n",
    "Найти доверительный интервал для оценки математического ожидания a с надежностью 0.95,\n",
    "если выборочная средняя M = 80, а объем выборки n = 256."
   ]
  },
  {
   "cell_type": "markdown",
   "id": "ce204774",
   "metadata": {},
   "source": [
    "$ \\bar{X}\\pm Z_\\frac{\\alpha}{2}*\\frac{\\sigma}{\\sqrt{n}} $  \n",
    "$ \\sigma=16 $  \n",
    "$ \\bar{X}=80 $  \n",
    "$ \\alpha=1-0.95 $  \n",
    "$ \\alpha=0.05 $  \n",
    "Так как $ \\sigma $ известна используем $ Z_{\\frac{\\alpha}{2}} $  \n",
    "Табличное значение Z критерия  \n",
    "$ Z_{\\frac{\\alpha}{2}}=1.96 $  \n",
    "n = 256"
   ]
  },
  {
   "cell_type": "code",
   "execution_count": 9,
   "id": "2923f345",
   "metadata": {},
   "outputs": [
    {
     "data": {
      "text/plain": [
       "78.04"
      ]
     },
     "execution_count": 9,
     "metadata": {},
     "output_type": "execute_result"
    }
   ],
   "source": [
    "left_value = 80 - 1.96 * (16/(256**0.5))\n",
    "left_value"
   ]
  },
  {
   "cell_type": "code",
   "execution_count": 10,
   "id": "f1f49cb9",
   "metadata": {},
   "outputs": [
    {
     "data": {
      "text/plain": [
       "81.96"
      ]
     },
     "execution_count": 10,
     "metadata": {},
     "output_type": "execute_result"
    }
   ],
   "source": [
    "right_value = 80 + 1.96 * (16/(256**0.5))\n",
    "right_value"
   ]
  },
  {
   "cell_type": "code",
   "execution_count": 11,
   "id": "e925491c",
   "metadata": {},
   "outputs": [
    {
     "name": "stdout",
     "output_type": "stream",
     "text": [
      "Ответ:\n",
      "доверительный интервал [78.04; 81.96]\n"
     ]
    }
   ],
   "source": [
    "print(f\"Ответ:\\nдоверительный интервал [{left_value}; {right_value}]\")"
   ]
  },
  {
   "cell_type": "markdown",
   "id": "029af2df",
   "metadata": {},
   "source": [
    "2. В результате 10 независимых измерений некоторой величины X, выполненных с одинаковой точностью,\n",
    "получены опытные данные: 6.9, 6.1, 6.2, 6.8, 7.5, 6.3, 6.4, 6.9, 6.7, 6.1  \n",
    "Предполагая, что результаты измерений подчинены нормальному закону распределения вероятностей,\n",
    "оценить истинное значение величины X при помощи доверительного интервала, покрывающего это\n",
    "значение с доверительной вероятностью 0,95."
   ]
  },
  {
   "cell_type": "markdown",
   "id": "c5406ba3",
   "metadata": {},
   "source": [
    "Так как $ \\sigma $ неизвестна воспользуемся формулой  \n",
    "$ \\bar{X}\\pm t_\\frac{\\alpha}{2}*\\frac{\\sigma}{\\sqrt{n}} $"
   ]
  },
  {
   "cell_type": "code",
   "execution_count": 16,
   "id": "8a00ea8f",
   "metadata": {},
   "outputs": [
    {
     "data": {
      "text/plain": [
       "6.590000000000001"
      ]
     },
     "execution_count": 16,
     "metadata": {},
     "output_type": "execute_result"
    }
   ],
   "source": [
    "import numpy as np\n",
    "from scipy import stats\n",
    "\n",
    "a = np.array([6.9, 6.1, 6.2, 6.8, 7.5, 6.3, 6.4, 6.9, 6.7, 6.1])\n",
    "\n",
    "# найдём среднее арифметическое для выборки a\n",
    "x_mean = np.mean(a)\n",
    "x_mean"
   ]
  },
  {
   "cell_type": "code",
   "execution_count": 17,
   "id": "9d7c712d",
   "metadata": {},
   "outputs": [
    {
     "data": {
      "text/plain": [
       "0.2032222222222223"
      ]
     },
     "execution_count": 17,
     "metadata": {},
     "output_type": "execute_result"
    }
   ],
   "source": [
    "# несмещённая дисперсияа для выборки\n",
    "D = np.var(a, ddof=1)\n",
    "D"
   ]
  },
  {
   "cell_type": "code",
   "execution_count": 18,
   "id": "b692ca07",
   "metadata": {},
   "outputs": [
    {
     "data": {
      "text/plain": [
       "2.2621571627409915"
      ]
     },
     "execution_count": 18,
     "metadata": {},
     "output_type": "execute_result"
    }
   ],
   "source": [
    "# доверительный интервал для среднего\n",
    "t1 = stats.t.ppf(0.975, 9)\n",
    "t1"
   ]
  },
  {
   "cell_type": "code",
   "execution_count": 19,
   "id": "cc34d778",
   "metadata": {},
   "outputs": [
    {
     "data": {
      "text/plain": [
       "6.267515851415713"
      ]
     },
     "execution_count": 19,
     "metadata": {},
     "output_type": "execute_result"
    }
   ],
   "source": [
    "left_v = x_mean - t1 * np.sqrt(D/10)\n",
    "left_v"
   ]
  },
  {
   "cell_type": "code",
   "execution_count": 27,
   "id": "230236cf",
   "metadata": {},
   "outputs": [
    {
     "data": {
      "text/plain": [
       "6.912484148584288"
      ]
     },
     "execution_count": 27,
     "metadata": {},
     "output_type": "execute_result"
    }
   ],
   "source": [
    "right_v = x_mean + t1 * np.sqrt(D/10)\n",
    "right_v"
   ]
  },
  {
   "cell_type": "code",
   "execution_count": 28,
   "id": "405a70b1",
   "metadata": {},
   "outputs": [
    {
     "name": "stdout",
     "output_type": "stream",
     "text": [
      "Ответ:\n",
      "доверительный интервал [6.2675; 6.9125]\n"
     ]
    }
   ],
   "source": [
    "print(f\"Ответ:\\nдоверительный интервал [{left_v:.4f}; {right_v:.4f}]\")"
   ]
  },
  {
   "cell_type": "markdown",
   "id": "ab88205a",
   "metadata": {},
   "source": [
    "3. Рост дочерей 175, 167, 154, 174, 178, 148, 160, 167, 169, 170  \n",
    "Рост матерей 178, 165, 165, 173, 168, 155, 160, 164, 178, 175  \n",
    "Используя эти данные построить 95% доверительный интервал для разности среднего роста родителей и детей."
   ]
  },
  {
   "cell_type": "markdown",
   "id": "63730a31",
   "metadata": {},
   "source": [
    "Используем формулу для нахождения доверительного интервала для разности средних арифметических  \n",
    "$ \\Delta\\pm t_\\frac{\\alpha}{2}*S_\\Delta $ ,  \n",
    "где $ \\Delta=\\bar{X_1}-\\bar{X_2} $"
   ]
  },
  {
   "cell_type": "code",
   "execution_count": 72,
   "id": "e7a6a061",
   "metadata": {},
   "outputs": [],
   "source": [
    "a = np.array([175, 167, 154, 174, 178, 148, 160, 167, 169, 170])"
   ]
  },
  {
   "cell_type": "code",
   "execution_count": 73,
   "id": "c79e64b1",
   "metadata": {},
   "outputs": [],
   "source": [
    "b = np.array([178, 165, 165, 173, 168, 155, 160, 164, 178, 175])"
   ]
  },
  {
   "cell_type": "code",
   "execution_count": 74,
   "id": "081426f9",
   "metadata": {},
   "outputs": [
    {
     "data": {
      "text/plain": [
       "10"
      ]
     },
     "execution_count": 74,
     "metadata": {},
     "output_type": "execute_result"
    }
   ],
   "source": [
    "n1 = len(a)\n",
    "n = n1\n",
    "n1"
   ]
  },
  {
   "cell_type": "code",
   "execution_count": 75,
   "id": "f77f8311",
   "metadata": {},
   "outputs": [
    {
     "data": {
      "text/plain": [
       "10"
      ]
     },
     "execution_count": 75,
     "metadata": {},
     "output_type": "execute_result"
    }
   ],
   "source": [
    "n2 = len(b)\n",
    "n2"
   ]
  },
  {
   "cell_type": "code",
   "execution_count": 76,
   "id": "d6c4cbf3",
   "metadata": {},
   "outputs": [
    {
     "data": {
      "text/plain": [
       "166.2"
      ]
     },
     "execution_count": 76,
     "metadata": {},
     "output_type": "execute_result"
    }
   ],
   "source": [
    "# найдём среднее арифметическое для выборки a\n",
    "x_a = np.mean(a)\n",
    "x_a"
   ]
  },
  {
   "cell_type": "code",
   "execution_count": 77,
   "id": "303dd54b",
   "metadata": {},
   "outputs": [
    {
     "data": {
      "text/plain": [
       "168.1"
      ]
     },
     "execution_count": 77,
     "metadata": {},
     "output_type": "execute_result"
    }
   ],
   "source": [
    "# найдём среднее арифметическое для выборки b\n",
    "x_b = np.mean(b)\n",
    "x_b"
   ]
  },
  {
   "cell_type": "code",
   "execution_count": 78,
   "id": "8d35cf98",
   "metadata": {},
   "outputs": [
    {
     "data": {
      "text/plain": [
       "-1.9000000000000057"
      ]
     },
     "execution_count": 78,
     "metadata": {},
     "output_type": "execute_result"
    }
   ],
   "source": [
    "# разность средних\n",
    "delta = x_a - x_b\n",
    "delta"
   ]
  },
  {
   "cell_type": "markdown",
   "id": "78eec0dd",
   "metadata": {},
   "source": [
    "$ D=\\frac{1}{2}(D_1+D_2) $,  \n",
    "где $ D_1 $ и $ D_2 $ - дисперсии обеих групп"
   ]
  },
  {
   "cell_type": "code",
   "execution_count": 79,
   "id": "4683fc1b",
   "metadata": {},
   "outputs": [
    {
     "data": {
      "text/plain": [
       "91.06666666666666"
      ]
     },
     "execution_count": 79,
     "metadata": {},
     "output_type": "execute_result"
    }
   ],
   "source": [
    "# несмещённая дисперсия для выборки a\n",
    "D1 = np.var(a, ddof=1)\n",
    "D1"
   ]
  },
  {
   "cell_type": "code",
   "execution_count": 80,
   "id": "b9be5521",
   "metadata": {},
   "outputs": [
    {
     "data": {
      "text/plain": [
       "60.10000000000001"
      ]
     },
     "execution_count": 80,
     "metadata": {},
     "output_type": "execute_result"
    }
   ],
   "source": [
    "# несмещённая дисперсия для выборки b\n",
    "D2 = np.var(b, ddof=1)\n",
    "D2"
   ]
  },
  {
   "cell_type": "code",
   "execution_count": 81,
   "id": "8c8f95e7",
   "metadata": {},
   "outputs": [
    {
     "data": {
      "text/plain": [
       "75.58333333333334"
      ]
     },
     "execution_count": 81,
     "metadata": {},
     "output_type": "execute_result"
    }
   ],
   "source": [
    "# объединённая оценка дисперсии\n",
    "D = (D1 + D2)/2\n",
    "D"
   ]
  },
  {
   "cell_type": "markdown",
   "id": "cf7f5853",
   "metadata": {},
   "source": [
    "$ S_\\Delta=\\sqrt{\\frac{D}{n_1}+\\frac{D}{n_2}} $,  \n",
    "где $ n_1 $ и $ n_2 $ - объёмы выборок"
   ]
  },
  {
   "cell_type": "code",
   "execution_count": 82,
   "id": "6d89d9fb",
   "metadata": {},
   "outputs": [
    {
     "data": {
      "text/plain": [
       "3.8880157750022915"
      ]
     },
     "execution_count": 82,
     "metadata": {},
     "output_type": "execute_result"
    }
   ],
   "source": [
    "# стандартная ошибка разности средних\n",
    "SE = np.sqrt(D/n1 + D/n2)\n",
    "SE"
   ]
  },
  {
   "cell_type": "markdown",
   "id": "94f53a3a",
   "metadata": {},
   "source": [
    "$ df=2*(n-1) $,  \n",
    "где n - объём выборки"
   ]
  },
  {
   "cell_type": "code",
   "execution_count": 84,
   "id": "ccceadbd",
   "metadata": {},
   "outputs": [
    {
     "data": {
      "text/plain": [
       "18"
      ]
     },
     "execution_count": 84,
     "metadata": {},
     "output_type": "execute_result"
    }
   ],
   "source": [
    "# степени свободы\n",
    "df = 2 * (n - 1)\n",
    "df"
   ]
  },
  {
   "cell_type": "code",
   "execution_count": 85,
   "id": "a7a26003",
   "metadata": {},
   "outputs": [
    {
     "data": {
      "text/plain": [
       "2.10092204024096"
      ]
     },
     "execution_count": 85,
     "metadata": {},
     "output_type": "execute_result"
    }
   ],
   "source": [
    "# найдём t-критерий Стьюдента\n",
    "t = stats.t.ppf(0.975, df)\n",
    "t"
   ]
  },
  {
   "cell_type": "code",
   "execution_count": 86,
   "id": "8b415488",
   "metadata": {},
   "outputs": [
    {
     "data": {
      "text/plain": [
       "-10.068418034506857"
      ]
     },
     "execution_count": 86,
     "metadata": {},
     "output_type": "execute_result"
    }
   ],
   "source": [
    "# нижняя граница интервала\n",
    "L = delta - t * SE\n",
    "L"
   ]
  },
  {
   "cell_type": "code",
   "execution_count": 87,
   "id": "e81c7148",
   "metadata": {},
   "outputs": [
    {
     "data": {
      "text/plain": [
       "6.268418034506846"
      ]
     },
     "execution_count": 87,
     "metadata": {},
     "output_type": "execute_result"
    }
   ],
   "source": [
    "# верхняя граница интервала\n",
    "U = delta + t * SE\n",
    "U"
   ]
  },
  {
   "cell_type": "code",
   "execution_count": 88,
   "id": "04a3b18a",
   "metadata": {},
   "outputs": [
    {
     "name": "stdout",
     "output_type": "stream",
     "text": [
      "Ответ:\n",
      "95% доверительный интервал для разности среднего роста родителей и детей [-10.0684, 6.2684]\n"
     ]
    }
   ],
   "source": [
    "print(\"Ответ:\\n\"\n",
    "f\"95% доверительный интервал для разности среднего роста родителей и детей [{L:.4f}, {U:.4f}]\")"
   ]
  }
 ],
 "metadata": {
  "kernelspec": {
   "display_name": "Python 3 (ipykernel)",
   "language": "python",
   "name": "python3"
  },
  "language_info": {
   "codemirror_mode": {
    "name": "ipython",
    "version": 3
   },
   "file_extension": ".py",
   "mimetype": "text/x-python",
   "name": "python",
   "nbconvert_exporter": "python",
   "pygments_lexer": "ipython3",
   "version": "3.9.12"
  }
 },
 "nbformat": 4,
 "nbformat_minor": 5
}
