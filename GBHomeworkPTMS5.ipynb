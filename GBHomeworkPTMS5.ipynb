{
 "cells": [
  {
   "cell_type": "markdown",
   "id": "17b6c8e1",
   "metadata": {},
   "source": [
    "# Урок 5. Тестирование гипотез"
   ]
  },
  {
   "cell_type": "markdown",
   "id": "a18a416a",
   "metadata": {},
   "source": [
    "1. Когда используется критерий Стьюдента, а когда Z –критерий?"
   ]
  },
  {
   "cell_type": "markdown",
   "id": "ee68cbca",
   "metadata": {},
   "source": [
    "Критерий Стьюдента используется, когда $ \\sigma $ генеральной совокупности неизвестна, а Z-критерий, когда известна $ \\sigma $ генеральной совокупности."
   ]
  },
  {
   "cell_type": "markdown",
   "id": "1b83ba7d",
   "metadata": {},
   "source": [
    "Задачи 2,3 решать вручную"
   ]
  },
  {
   "cell_type": "markdown",
   "id": "051ee23d",
   "metadata": {},
   "source": [
    "2. Проведите тест гипотезы. Утверждается, что шарики для подшипников, изготовленные автоматическим станком, имеют средний диаметр 17 мм. Используя односторонний критерий с α=0,05, проверить эту гипотезу, если в выборке из n=100 шариков средний диаметр оказался равным 17.5 мм, а дисперсия известна и равна 4 кв. мм."
   ]
  },
  {
   "cell_type": "markdown",
   "id": "1df41a14",
   "metadata": {},
   "source": [
    "$ H_0:\\mu=\\mu_0 $  \n",
    "$ H_1:\\mu=\\mu_0 $  \n",
    "Так как $ \\sigma $ известна расчитаем Z-критерий  \n",
    "$ Z_H=\\frac{\\bar{X}-\\mu}{\\sigma/\\sqrt{n}}=\\frac{17.5-17}{4/\\sqrt{100}}=\\frac{0.5}{0.4}=1.25 $  \n",
    "Найдём табличное значение Z-критерия  \n",
    "Так как α=0,05 то 1-0.05=0.95  \n",
    "Далее ищем значение 0.95 в таблице Z-значений и получаем 1.645  \n",
    "Ответ:  \n",
    "Так как расчётное значение 1.25 меньше табличного 1.645, то делаем вывод в пользу нулевой гепотезы, что различий статистически значемых не обноружено."
   ]
  },
  {
   "cell_type": "markdown",
   "id": "9c08db71",
   "metadata": {},
   "source": [
    "3. Проведите тест гипотезы. Продавец утверждает, что средний вес пачки печенья составляет 200 г.\n",
    "Из партии извлечена выборка из 10 пачек. Вес каждой пачки составляет:\n",
    "202, 203, 199, 197, 195, 201, 200, 204, 194, 190.\n",
    "Известно, что их веса распределены нормально.\n",
    "Верно ли утверждение продавца, если учитывать, что доверительная вероятность равна 99%? (Провести двусторонний тест.)"
   ]
  },
  {
   "cell_type": "markdown",
   "id": "d07e4c0b",
   "metadata": {},
   "source": [
    "Из задачи следует, что нужно проверить следующие гипотезы:  \n",
    "$ H_0:\\mu=\\mu_0=200 $,  \n",
    "где $ \\mu $ и $ \\mu_0 $ среднии выборки генеральной совокупности и выборки соответственно.  \n",
    "Альтернативная гипотеза:  \n",
    "$ H_1:\\mu\\neq\\mu_0 $"
   ]
  },
  {
   "cell_type": "markdown",
   "id": "d8b6f8f6",
   "metadata": {},
   "source": [
    "α = 1 - 0.99 = 0.01  \n",
    "Так как неизвестны среднее генеральной совокупности и дисперсия, то для проверки гипотезы используем t-критерий.  \n",
    "$ t_H=\\frac{\\bar{X}-\\mu}{\\sigma_H/\\sqrt{n}} $  \n",
    "Найдём среднее арифметическое выборки  \n",
    "$ \\bar{X}=(202+203+199+197+195+201+200+204+194+190)/10 $"
   ]
  },
  {
   "cell_type": "code",
   "execution_count": 36,
   "id": "51c8704d",
   "metadata": {},
   "outputs": [],
   "source": [
    "import numpy as np\n",
    "from scipy import stats"
   ]
  },
  {
   "cell_type": "code",
   "execution_count": 37,
   "id": "0fb7f1da",
   "metadata": {},
   "outputs": [
    {
     "data": {
      "text/plain": [
       "198.5"
      ]
     },
     "execution_count": 37,
     "metadata": {},
     "output_type": "execute_result"
    }
   ],
   "source": [
    "n = 10\n",
    "X = (202+203+199+197+195+201+200+204+194+190)/10\n",
    "X"
   ]
  },
  {
   "cell_type": "code",
   "execution_count": 38,
   "id": "468a843b",
   "metadata": {},
   "outputs": [
    {
     "data": {
      "text/plain": [
       "4.453463071962462"
      ]
     },
     "execution_count": 38,
     "metadata": {},
     "output_type": "execute_result"
    }
   ],
   "source": [
    "arr_x = np.array([202, 203, 199, 197, 195, 201, 200, 204, 194, 190])\n",
    "std = arr_x.std(ddof=1)\n",
    "std"
   ]
  },
  {
   "cell_type": "markdown",
   "id": "7d5afce6",
   "metadata": {},
   "source": [
    "$ T(X)=\\frac{\\bar{X}-\\mu}{\\sigma_X/\\sqrt{n}} $,  \n",
    "где $ \\sigma_X $ - несмещённая оценка среднего квадратического отклонения.  \n",
    "$ T(X)=\\frac{\\bar{X}-200}{std/\\sqrt{10}} $  \n",
    "$ df=n-1 $"
   ]
  },
  {
   "cell_type": "code",
   "execution_count": 39,
   "id": "311cd229",
   "metadata": {},
   "outputs": [
    {
     "data": {
      "text/plain": [
       "-1.0651074037450896"
      ]
     },
     "execution_count": 39,
     "metadata": {},
     "output_type": "execute_result"
    }
   ],
   "source": [
    "T = (np.mean(arr_x)-200)/(std/np.sqrt(n))\n",
    "T"
   ]
  },
  {
   "cell_type": "code",
   "execution_count": 40,
   "id": "fe10e965",
   "metadata": {},
   "outputs": [
    {
     "data": {
      "text/plain": [
       "(-3.24983554401537, 3.2498355440153697)"
      ]
     },
     "execution_count": 40,
     "metadata": {},
     "output_type": "execute_result"
    }
   ],
   "source": [
    "# найдём критическую область\n",
    "alpha = 0.01\n",
    "\n",
    "t1 = stats.t.ppf(alpha/2, df=n-1)\n",
    "t2 = stats.t.ppf(1-alpha/2, df=n-1)\n",
    "t1, t2"
   ]
  },
  {
   "cell_type": "markdown",
   "id": "be38e5bd",
   "metadata": {},
   "source": [
    "Ответ: T не поподает в критическую область, таким оброзом утверждение продавца верно."
   ]
  },
  {
   "cell_type": "markdown",
   "id": "0c3b1d61",
   "metadata": {},
   "source": [
    "4. Задачу 4 решать с помощью функции. Есть ли статистически значимые различия в росте дочерей?  \n",
    "4 Рост матерей 172, 177, 158, 170, 178,175, 164, 160, 169, 165  \n",
    "Рост взрослых дочерей: 173, 175, 162, 174, 175, 168, 155, 170, 160"
   ]
  },
  {
   "cell_type": "markdown",
   "id": "fb682717",
   "metadata": {},
   "source": [
    "$ t=\\frac{\\bar{x_1}-\\bar{x_2}}{\\sqrt{\\frac{s_1^2}{n_1}+\\frac{s_2^2}{n_2}}} $"
   ]
  },
  {
   "cell_type": "code",
   "execution_count": 41,
   "id": "5424b335",
   "metadata": {},
   "outputs": [
    {
     "data": {
      "text/plain": [
       "Ttest_indResult(statistic=0.24400587215969016, pvalue=0.8101467126543231)"
      ]
     },
     "execution_count": 41,
     "metadata": {},
     "output_type": "execute_result"
    }
   ],
   "source": [
    "x = np.array([172, 177, 158, 170, 178,175, 164, 160, 169, 165])\n",
    "y = np.array([173, 175, 162, 174, 175, 168, 155, 170, 160])\n",
    "result = stats.ttest_ind(x, y)\n",
    "result"
   ]
  },
  {
   "cell_type": "code",
   "execution_count": 47,
   "id": "fd5d55d9",
   "metadata": {},
   "outputs": [
    {
     "data": {
      "text/plain": [
       "0.24323213903456076"
      ]
     },
     "execution_count": 47,
     "metadata": {},
     "output_type": "execute_result"
    }
   ],
   "source": [
    "t = (np.mean(x)-np.mean(y))/np.sqrt((np.var(x, ddof=1)/len(x))+(np.var(y, ddof=1)/len(y)))\n",
    "t"
   ]
  },
  {
   "cell_type": "markdown",
   "id": "4bf3e78e",
   "metadata": {},
   "source": [
    "Небольшие отклонения statistic и t"
   ]
  },
  {
   "cell_type": "markdown",
   "id": "28ad309f",
   "metadata": {},
   "source": [
    "Ответ: pvalue > 0.05 значит стасистически значемых различий в росте нет."
   ]
  }
 ],
 "metadata": {
  "kernelspec": {
   "display_name": "Python 3 (ipykernel)",
   "language": "python",
   "name": "python3"
  },
  "language_info": {
   "codemirror_mode": {
    "name": "ipython",
    "version": 3
   },
   "file_extension": ".py",
   "mimetype": "text/x-python",
   "name": "python",
   "nbconvert_exporter": "python",
   "pygments_lexer": "ipython3",
   "version": "3.9.12"
  }
 },
 "nbformat": 4,
 "nbformat_minor": 5
}
