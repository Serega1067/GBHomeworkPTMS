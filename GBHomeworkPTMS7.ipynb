{
 "cells": [
  {
   "cell_type": "markdown",
   "id": "ffc1c7f4",
   "metadata": {},
   "source": [
    "# Урок 7. Непараметрические тесты"
   ]
  },
  {
   "cell_type": "markdown",
   "id": "0322b697",
   "metadata": {},
   "source": [
    "1-4 задачи решать с помощью функций, 5ю вручную"
   ]
  },
  {
   "cell_type": "markdown",
   "id": "9f3bf728",
   "metadata": {},
   "source": [
    "Выберете тест и проверьте, есть ли различия между выборками:  \n",
    "1 ) Даны две независимые выборки. Не соблюдается условие нормальности  \n",
    "x1 380,420, 290  \n",
    "y1 140,360,200,900  \n",
    "Сделайте вывод по результатам, полученным с помощью функции"
   ]
  },
  {
   "cell_type": "markdown",
   "id": "8c2053b3",
   "metadata": {},
   "source": [
    "Так как даны две независимые выборки и не соблюдается условие нормальности выбираем непараметрический тест Манна-Уитни."
   ]
  },
  {
   "cell_type": "code",
   "execution_count": 4,
   "id": "34dd7678",
   "metadata": {},
   "outputs": [],
   "source": [
    "import numpy as np\n",
    "from scipy import stats"
   ]
  },
  {
   "cell_type": "code",
   "execution_count": 5,
   "id": "26160090",
   "metadata": {},
   "outputs": [],
   "source": [
    "x1 = np.array([380, 420, 290])\n",
    "y1 = np.array([140, 360, 200, 900])"
   ]
  },
  {
   "cell_type": "code",
   "execution_count": 6,
   "id": "90331cae",
   "metadata": {},
   "outputs": [
    {
     "data": {
      "text/plain": [
       "MannwhitneyuResult(statistic=8.0, pvalue=0.6285714285714286)"
      ]
     },
     "execution_count": 6,
     "metadata": {},
     "output_type": "execute_result"
    }
   ],
   "source": [
    "result_t1 = stats.mannwhitneyu(x1, y1)\n",
    "result_t1"
   ]
  },
  {
   "cell_type": "markdown",
   "id": "6d36584e",
   "metadata": {},
   "source": [
    "Ответ:  \n",
    "Так как pvalue > 0.05 (стандартное отклонение $ \\alpha $) следовательно верна нулевая гипотеза нет статистически значимых различий."
   ]
  },
  {
   "cell_type": "markdown",
   "id": "82a74e90",
   "metadata": {},
   "source": [
    "2 ) Исследовалось влияние препарата на уровень давления пациентов. Сначала измерялось давление до приема препарата, потом через 10 минут и через 30 минут.  \n",
    "Есть ли статистически значимые различия?  \n",
    "1е измерение до приема препарата: 150, 160, 165, 145, 155  \n",
    "2е измерение через 10 минут: 140, 155, 150, 130, 135  \n",
    "3е измерение через 30 минут: 130, 130, 120, 130, 125"
   ]
  },
  {
   "cell_type": "markdown",
   "id": "79b7dda0",
   "metadata": {},
   "source": [
    "Так как мы тестируем множественные повторные измерения, то выбираем критерий Фридмана."
   ]
  },
  {
   "cell_type": "code",
   "execution_count": 8,
   "id": "7395121a",
   "metadata": {},
   "outputs": [],
   "source": [
    "before = np.array([150, 160, 165, 145, 155])\n",
    "measurement1 = np.array([140, 155, 150, 130, 135])\n",
    "measurement2 = np.array([130, 130, 120, 130, 125])"
   ]
  },
  {
   "cell_type": "code",
   "execution_count": 11,
   "id": "ba2e858b",
   "metadata": {},
   "outputs": [
    {
     "data": {
      "text/plain": [
       "FriedmanchisquareResult(statistic=9.578947368421062, pvalue=0.00831683351100441)"
      ]
     },
     "execution_count": 11,
     "metadata": {},
     "output_type": "execute_result"
    }
   ],
   "source": [
    "result_t2 = stats.friedmanchisquare(before, measurement1, measurement2)\n",
    "result_t2"
   ]
  },
  {
   "cell_type": "markdown",
   "id": "a2aa951a",
   "metadata": {},
   "source": [
    "Ответ:  \n",
    "Так как pvalue < 0.05 следовательно выбираем альтернативную гипотезу найдены статистически значимые различия."
   ]
  },
  {
   "cell_type": "markdown",
   "id": "0ea641ab",
   "metadata": {},
   "source": [
    "3 ) Исследовалось влияние препарата на уровень давления пациентов. Сначала измерялось давление до приема препарата, потом через 10 минут и через 30 минут.  \n",
    "Есть ли статистически значимые различия?  \n",
    "1е измерение до приема препарата: 150, 160, 165, 145, 155  \n",
    "2е измерение через 10 минут: 140, 155, 150, 130, 135  \n",
    "3е измерение через 30 минут: 130, 130, 120, 130, 125  \n",
    "Сравните 1 и 2 е измерения, предполагая, что 3го измерения через 30 минут не было."
   ]
  },
  {
   "cell_type": "markdown",
   "id": "6eefb3ab",
   "metadata": {},
   "source": [
    "Так как сравниваем две группы и выборки зависимые, то выбираем критерий Уилкоксона."
   ]
  },
  {
   "cell_type": "code",
   "execution_count": 12,
   "id": "54c69992",
   "metadata": {},
   "outputs": [],
   "source": [
    "before = np.array([150, 160, 165, 145, 155])\n",
    "measurement1 = np.array([140, 155, 150, 130, 135])"
   ]
  },
  {
   "cell_type": "code",
   "execution_count": 16,
   "id": "ef44f19d",
   "metadata": {},
   "outputs": [
    {
     "data": {
      "text/plain": [
       "WilcoxonResult(statistic=0.0, pvalue=0.0625)"
      ]
     },
     "execution_count": 16,
     "metadata": {},
     "output_type": "execute_result"
    }
   ],
   "source": [
    "result_t3 = stats.wilcoxon(before, measurement1)\n",
    "result_t3"
   ]
  },
  {
   "cell_type": "markdown",
   "id": "578fc40b",
   "metadata": {},
   "source": [
    "Ответ:  \n",
    "Так как pvalue > 0.05 следовательно верна нулевая гипотеза нет статистически значимых различий."
   ]
  },
  {
   "cell_type": "markdown",
   "id": "9545d362",
   "metadata": {},
   "source": [
    "4) Даны 3 группы учеников плавания.  \n",
    "В 1 группе время на дистанцию 50 м составляют:\n",
    "56, 60, 62, 55, 71, 67, 59, 58, 64, 67  \n",
    "Вторая группа : 57, 58, 69, 48, 72, 70, 68, 71, 50, 53  \n",
    "Третья группа: 57, 67, 49, 48, 47, 55, 66, 51, 54"
   ]
  },
  {
   "cell_type": "code",
   "execution_count": 17,
   "id": "84eac07a",
   "metadata": {},
   "outputs": [],
   "source": [
    "group1 = np.array([56, 60, 62, 55, 71, 67, 59, 58, 64, 67])\n",
    "group2 = np.array([57, 58, 69, 48, 72, 70, 68, 71, 50, 53])\n",
    "group3 = np.array([57, 67, 49, 48, 47, 55, 66, 51, 54])"
   ]
  },
  {
   "cell_type": "code",
   "execution_count": 18,
   "id": "efbc4013",
   "metadata": {},
   "outputs": [
    {
     "data": {
      "text/plain": [
       "KruskalResult(statistic=5.465564058257224, pvalue=0.0650380998590494)"
      ]
     },
     "execution_count": 18,
     "metadata": {},
     "output_type": "execute_result"
    }
   ],
   "source": [
    "result_t4 = stats.kruskal(group1, group2, group3)\n",
    "result_t4"
   ]
  },
  {
   "cell_type": "markdown",
   "id": "5ad84580",
   "metadata": {},
   "source": [
    "Ответ:  \n",
    "Так как pvalue > 0.05 следовательно верна нулевая гипотеза нет статистически значимых различий."
   ]
  },
  {
   "cell_type": "markdown",
   "id": "319a266d",
   "metadata": {},
   "source": [
    "5) Заявляется, что партия изготавливается со средним арифметическим 2,5 см. Проверить данную гипотезу, если известно, что размеры изделий подчинены нормальному закону распределения. Объем выборки 10, уровень статистической значимости 5%  \n",
    "2.51, 2.35, 2.74, 2.56, 2.40, 2.36, 2.65, 2.7, 2.67, 2.34"
   ]
  },
  {
   "cell_type": "markdown",
   "id": "12b4078b",
   "metadata": {},
   "source": [
    "Так как неизвестна сигма генеральной совокупности используем критерий Стьюдента.  \n",
    "$ t_H=\\frac{\\bar{X}-\\mu}{\\frac{\\sigma_H}{\\sqrt{n}}} $"
   ]
  },
  {
   "cell_type": "markdown",
   "id": "235ae2fa",
   "metadata": {},
   "source": [
    "$ \\mu=2.5 $  \n",
    "n = 10  \n",
    "$ \\alpha=5\\%=0.05 $  \n",
    "$ \\bar{X}=(2.51+2.35+2.74+2.56+2.40+2.36+2.65+2.7+2.67+2.34)/10=2.5279999999999996 $"
   ]
  },
  {
   "cell_type": "code",
   "execution_count": 24,
   "id": "63315206",
   "metadata": {},
   "outputs": [
    {
     "data": {
      "text/plain": [
       "2.5279999999999996"
      ]
     },
     "execution_count": 24,
     "metadata": {},
     "output_type": "execute_result"
    }
   ],
   "source": [
    "mu = 2.5\n",
    "n = 10\n",
    "x = np.array([2.51, 2.35, 2.74, 2.56, 2.40, 2.36, 2.65, 2.7, 2.67, 2.34])\n",
    "X_mean = (2.51+2.35+2.74+2.56+2.40+2.36+2.65+2.7+2.67+2.34)/10\n",
    "X_mean"
   ]
  },
  {
   "cell_type": "code",
   "execution_count": 25,
   "id": "5fd9713e",
   "metadata": {},
   "outputs": [
    {
     "data": {
      "text/plain": [
       "0.1572542173961923"
      ]
     },
     "execution_count": 25,
     "metadata": {},
     "output_type": "execute_result"
    }
   ],
   "source": [
    "sigma = np.std(x, ddof=1)\n",
    "sigma"
   ]
  },
  {
   "cell_type": "code",
   "execution_count": 26,
   "id": "42e81d67",
   "metadata": {},
   "outputs": [
    {
     "data": {
      "text/plain": [
       "0.5630613661802959"
      ]
     },
     "execution_count": 26,
     "metadata": {},
     "output_type": "execute_result"
    }
   ],
   "source": [
    "t_H = (X_mean - mu)/(sigma/np.sqrt(n))\n",
    "t_H"
   ]
  },
  {
   "cell_type": "markdown",
   "id": "a06363fa",
   "metadata": {},
   "source": [
    "Найдём табличное значение критерия Стьюдента для выборки из 10 изделий и $ \\alpha=0.05 $  \n",
    "Число степеней свободы k = 10 - 1 = 9  \n",
    "Вероятность p = 1 - 0.05 = 0.95  \n",
    "Следовательно табличное значение критерия Стьюдента $ t_T=1.833 $"
   ]
  },
  {
   "cell_type": "markdown",
   "id": "91ccc940",
   "metadata": {},
   "source": [
    "Проверим с помощью функции"
   ]
  },
  {
   "cell_type": "code",
   "execution_count": 32,
   "id": "6f70b48f",
   "metadata": {},
   "outputs": [
    {
     "data": {
      "text/plain": [
       "Ttest_1sampResult(statistic=-150.2569474321155, pvalue=1.302122012238181e-16)"
      ]
     },
     "execution_count": 32,
     "metadata": {},
     "output_type": "execute_result"
    }
   ],
   "source": [
    "stats.ttest_1samp(x, n)"
   ]
  },
  {
   "cell_type": "markdown",
   "id": "efbdbc31",
   "metadata": {},
   "source": [
    "$ t_H=0.563 $  \n",
    "$ t_T=1.833 $  \n",
    "Ответ:  \n",
    "Так как $ t_H<t_T $ следовательно подтверждается нулевая гипотеза нет статистически значимых различий."
   ]
  }
 ],
 "metadata": {
  "kernelspec": {
   "display_name": "Python 3 (ipykernel)",
   "language": "python",
   "name": "python3"
  },
  "language_info": {
   "codemirror_mode": {
    "name": "ipython",
    "version": 3
   },
   "file_extension": ".py",
   "mimetype": "text/x-python",
   "name": "python",
   "nbconvert_exporter": "python",
   "pygments_lexer": "ipython3",
   "version": "3.9.12"
  }
 },
 "nbformat": 4,
 "nbformat_minor": 5
}
