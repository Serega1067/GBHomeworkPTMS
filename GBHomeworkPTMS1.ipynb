{
 "cells": [
  {
   "cell_type": "markdown",
   "id": "8d3aeb1d",
   "metadata": {},
   "source": [
    "## Урок 2. Дискретные распределения вероятностей"
   ]
  },
  {
   "cell_type": "markdown",
   "id": "3e18ac18",
   "metadata": {},
   "source": [
    "Условие:"
   ]
  },
  {
   "cell_type": "markdown",
   "id": "f2e44000",
   "metadata": {},
   "source": [
    "1. Вероятность того, что стрелок попадет в мишень, выстрелив один раз, равна 0.8. Стрелок выстрелил 100 раз. Найдите вероятность того, что стрелок попадет в цель ровно 85 раз."
   ]
  },
  {
   "cell_type": "markdown",
   "id": "fa3f59b0",
   "metadata": {},
   "source": [
    "Испольлуем формулу Бернулли.  \n",
    "n = 100  \n",
    "k = 85  \n",
    "p = 0.8  \n",
    "q = 1 - 0.8 = 0.2  \n",
    "P(X = k) = (100! / (85! *(100 - 85)!)) * 0.8^85 * 0.2^15"
   ]
  },
  {
   "cell_type": "code",
   "execution_count": 6,
   "id": "1abbc5f5",
   "metadata": {},
   "outputs": [],
   "source": [
    "from math import factorial, exp\n",
    "def bernulli(n, k, p):\n",
    "    comb=factorial(n)/(factorial(k)*factorial(n-k))\n",
    "    return comb*(p**k)*(1-p)**(n-k)"
   ]
  },
  {
   "cell_type": "code",
   "execution_count": 7,
   "id": "83745d67",
   "metadata": {},
   "outputs": [
    {
     "name": "stdout",
     "output_type": "stream",
     "text": [
      "P =  0.05\n"
     ]
    }
   ],
   "source": [
    "print(f'P = {bernulli(100,85,0.8): .2f}')"
   ]
  },
  {
   "cell_type": "markdown",
   "id": "18a15c54",
   "metadata": {},
   "source": [
    "Ответ: P = 0.05"
   ]
  },
  {
   "cell_type": "markdown",
   "id": "6317877b",
   "metadata": {},
   "source": [
    "2. Вероятность того, что лампочка перегорит в течение первого дня эксплуатации, равна 0.0004. В жилом комплексе после ремонта в один день включили 5000 новых лампочек. Какова вероятность, что ни одна из них не перегорит в первый день? Какова вероятность, что перегорят ровно две?"
   ]
  },
  {
   "cell_type": "markdown",
   "id": "13d5a36f",
   "metadata": {},
   "source": [
    "Используем формулу Пуассона  \n",
    "Pm = (λ^m/m!)*e^−λ  \n",
    "λ = p * n  \n",
    "m = 0  \n",
    "n = 5000  \n",
    "p = 0.0004"
   ]
  },
  {
   "cell_type": "code",
   "execution_count": 11,
   "id": "477b1924",
   "metadata": {},
   "outputs": [],
   "source": [
    "def poisson_distr(m,p,n):\n",
    "    lamb=p*n\n",
    "    return exp(-lamb)*(lamb**m)/factorial(m)"
   ]
  },
  {
   "cell_type": "code",
   "execution_count": 12,
   "id": "bdc3ec0b",
   "metadata": {},
   "outputs": [
    {
     "name": "stdout",
     "output_type": "stream",
     "text": [
      "P =  0.14\n"
     ]
    }
   ],
   "source": [
    "print(f'P = {poisson_distr(0,0.0004,5000): .2f}')"
   ]
  },
  {
   "cell_type": "markdown",
   "id": "8ff40749",
   "metadata": {},
   "source": [
    "Ответ: вероятность, что ни одна из лампочек не перегорит в первый день P = 0.14"
   ]
  },
  {
   "cell_type": "markdown",
   "id": "8f40dc0b",
   "metadata": {},
   "source": [
    "По второму условию m = 2"
   ]
  },
  {
   "cell_type": "code",
   "execution_count": 14,
   "id": "c99af5bf",
   "metadata": {},
   "outputs": [
    {
     "name": "stdout",
     "output_type": "stream",
     "text": [
      "P =  0.27\n"
     ]
    }
   ],
   "source": [
    "print(f'P = {poisson_distr(2,0.0004,5000): .2f}')"
   ]
  },
  {
   "cell_type": "markdown",
   "id": "26f4772e",
   "metadata": {},
   "source": [
    "Ответ: вероятность, что перегорят ровно две лампочки P = 0.27"
   ]
  },
  {
   "cell_type": "markdown",
   "id": "de5b9147",
   "metadata": {},
   "source": [
    "3. Монету подбросили 144 раза. Какова вероятность, что орел выпадет ровно 70 раз?"
   ]
  },
  {
   "cell_type": "markdown",
   "id": "cb2bb746",
   "metadata": {},
   "source": [
    "Используем формулу Бернулли  \n",
    "n = 144  \n",
    "k = 70  \n",
    "p = 0.5"
   ]
  },
  {
   "cell_type": "code",
   "execution_count": 16,
   "id": "e6883e59",
   "metadata": {},
   "outputs": [
    {
     "name": "stdout",
     "output_type": "stream",
     "text": [
      "P =  0.06\n"
     ]
    }
   ],
   "source": [
    "print(f'P = {bernulli(144,70,0.5): .2f}')"
   ]
  },
  {
   "cell_type": "markdown",
   "id": "4f91d100",
   "metadata": {},
   "source": [
    "Ответ: P = 0.06"
   ]
  },
  {
   "cell_type": "markdown",
   "id": "cac60889",
   "metadata": {},
   "source": [
    "4. В первом ящике находится 10 мячей, из которых 7 - белые. Во втором ящике - 11 мячей, из которых 9 белых. Из каждого ящика вытаскивают случайным образом по два мяча. Какова вероятность того, что все мячи белые? Какова вероятность того, что ровно два мяча белые? Какова вероятность того, что хотя бы один мяч белый?"
   ]
  },
  {
   "cell_type": "markdown",
   "id": "62e2b41e",
   "metadata": {},
   "source": [
    "Решим с помощью условной вероятности  \n",
    "P(A + B) = (7 / 10)*(6 / 9)*(9 / 11)*(8 / 10)"
   ]
  },
  {
   "cell_type": "code",
   "execution_count": 19,
   "id": "9925b48b",
   "metadata": {},
   "outputs": [
    {
     "data": {
      "text/plain": [
       "0.3054545454545454"
      ]
     },
     "execution_count": 19,
     "metadata": {},
     "output_type": "execute_result"
    }
   ],
   "source": [
    "P1 = (7 / 10) * (6 / 9) * (9 / 11) * (8 / 10)\n",
    "P1"
   ]
  },
  {
   "cell_type": "markdown",
   "id": "733b4ae9",
   "metadata": {},
   "source": [
    "Ответ: вероятность того, что все мячи белые P1 = 0.3"
   ]
  },
  {
   "cell_type": "code",
   "execution_count": 20,
   "id": "c0ecb810",
   "metadata": {},
   "outputs": [
    {
     "data": {
      "text/plain": [
       "0.20484848484848484"
      ]
     },
     "execution_count": 20,
     "metadata": {},
     "output_type": "execute_result"
    }
   ],
   "source": [
    "P2 = ((7/10)*(6/9)*(2/11)*(1/10))+4*((7/10)*(3/9)*(9/11)*(2/10))+((3/10)*(2/9)*(9/11)*(8/10))\n",
    "P2"
   ]
  },
  {
   "cell_type": "markdown",
   "id": "df5fc8a8",
   "metadata": {},
   "source": [
    "Ответ: вероятность того, что ровно два мяча белые P2 = 0.2"
   ]
  },
  {
   "cell_type": "code",
   "execution_count": 24,
   "id": "7c16d898",
   "metadata": {},
   "outputs": [
    {
     "data": {
      "text/plain": [
       "0.9987878787878788"
      ]
     },
     "execution_count": 24,
     "metadata": {},
     "output_type": "execute_result"
    }
   ],
   "source": [
    "P3 = 1 - (3 / 10) * (2 / 9) * (2 / 11) * (1 / 10)\n",
    "P3"
   ]
  },
  {
   "cell_type": "markdown",
   "id": "173e8b67",
   "metadata": {},
   "source": [
    "Ответ: вероятность того, что хотя бы один мяч белый P3 = 0.9988"
   ]
  }
 ],
 "metadata": {
  "kernelspec": {
   "display_name": "Python 3 (ipykernel)",
   "language": "python",
   "name": "python3"
  },
  "language_info": {
   "codemirror_mode": {
    "name": "ipython",
    "version": 3
   },
   "file_extension": ".py",
   "mimetype": "text/x-python",
   "name": "python",
   "nbconvert_exporter": "python",
   "pygments_lexer": "ipython3",
   "version": "3.9.12"
  }
 },
 "nbformat": 4,
 "nbformat_minor": 5
}
