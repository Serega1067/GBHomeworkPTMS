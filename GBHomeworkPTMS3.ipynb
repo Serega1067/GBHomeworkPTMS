{
 "cells": [
  {
   "cell_type": "markdown",
   "id": "4c8a0407",
   "metadata": {},
   "source": [
    "## Урок 3. EDA (exploratory data analysis) или Разведочный анализ"
   ]
  },
  {
   "cell_type": "markdown",
   "id": "5a627f04",
   "metadata": {},
   "source": [
    "1. Даны значения зарплат из выборки выпускников: 100, 80, 75, 77, 89, 33, 45, 25, 65, 17, 30, 24, 57, 55, 70, 75, 65, 84, 90, 150. Посчитать (желательно без использования статистических методов наподобие std, var, mean) среднее арифметическое, среднее квадратичное отклонение, смещенную и несмещенную оценки дисперсий для данной выборки."
   ]
  },
  {
   "cell_type": "markdown",
   "id": "3928ff8a",
   "metadata": {},
   "source": [
    "Среднее арифметическое отклонение."
   ]
  },
  {
   "cell_type": "code",
   "execution_count": 1,
   "id": "bb652d80",
   "metadata": {},
   "outputs": [],
   "source": [
    "import numpy as np\n",
    "from math import factorial"
   ]
  },
  {
   "cell_type": "code",
   "execution_count": 3,
   "id": "67e415bc",
   "metadata": {},
   "outputs": [],
   "source": [
    "arr = np.array([100, 80, 75, 77, 89, 33, 45, 25, 65, 17, 30, 24, 57, 55, 70, 75, 65, 84, 90, 150])"
   ]
  },
  {
   "cell_type": "markdown",
   "id": "1e3a99b8",
   "metadata": {},
   "source": [
    "Формула расчёта среднего арифметического\n",
    "$$ M(X) = \\frac{1}{n}\\sum_{i=1}^n x_i $$"
   ]
  },
  {
   "cell_type": "code",
   "execution_count": 5,
   "id": "5bce56b2",
   "metadata": {},
   "outputs": [],
   "source": [
    "def mean_value(arg_array):\n",
    "    return sum(arg_array)/len(arg_array)"
   ]
  },
  {
   "cell_type": "code",
   "execution_count": 6,
   "id": "23493f87",
   "metadata": {},
   "outputs": [
    {
     "name": "stdout",
     "output_type": "stream",
     "text": [
      "Ответ: 65.3\n"
     ]
    }
   ],
   "source": [
    "print(\"Ответ:\", mean_value(arr))"
   ]
  },
  {
   "cell_type": "markdown",
   "id": "b1216fcb",
   "metadata": {},
   "source": [
    "Среднее квадратичное отклонение."
   ]
  },
  {
   "cell_type": "markdown",
   "id": "23a2ca42",
   "metadata": {},
   "source": [
    "Вычислим по формуле:\n",
    "$$ \\sigma = \\sqrt{\\frac{\\sum_{i=1}^n (x_i - \\bar{x})^2}{n}} $$"
   ]
  },
  {
   "cell_type": "code",
   "execution_count": 13,
   "id": "6f9243b1",
   "metadata": {},
   "outputs": [],
   "source": [
    "def mean_square_d(arg_array):\n",
    "    square_d = (arg_array - mean_value(arg_array))**2\n",
    "    return (sum(square_d)/len(square_d))**(1/2)"
   ]
  },
  {
   "cell_type": "code",
   "execution_count": 16,
   "id": "21ad03b6",
   "metadata": {},
   "outputs": [
    {
     "name": "stdout",
     "output_type": "stream",
     "text": [
      "Ответ: 30.823854398825596\n"
     ]
    }
   ],
   "source": [
    "print(\"Ответ:\", mean_square_d(arr))"
   ]
  },
  {
   "cell_type": "markdown",
   "id": "7292b21a",
   "metadata": {},
   "source": [
    "Смещенную и несмещенную оценки дисперсий для данной выборки."
   ]
  },
  {
   "cell_type": "markdown",
   "id": "7760cae7",
   "metadata": {},
   "source": [
    "Вычислим по формулам:  \n",
    "смещенная дисперсия\n",
    "$$ S^2 = \\frac{\\sum_{i=1}^{n} (x_i - \\bar{x})^2}{n} $$\n",
    "если объем выборки меньше 100 применяется несмещенная дисперсия  \n",
    "$$ S^2 = \\frac{\\sum_{i=1}^{n} (x_i - \\bar{x})^2}{n-1} $$"
   ]
  },
  {
   "cell_type": "code",
   "execution_count": 17,
   "id": "2093e549",
   "metadata": {},
   "outputs": [],
   "source": [
    "def dispers(arg_array):\n",
    "    square_d = (arg_array - mean_value(arg_array))**2\n",
    "    if len(arg_array) < 100:\n",
    "        return sum(square_d)/(len(square_d)-1)\n",
    "    else:\n",
    "        return sum(square_d)/len(square_d)"
   ]
  },
  {
   "cell_type": "code",
   "execution_count": 19,
   "id": "48fc6152",
   "metadata": {},
   "outputs": [
    {
     "name": "stdout",
     "output_type": "stream",
     "text": [
      "Ответ: 1000.1157894736842\n"
     ]
    }
   ],
   "source": [
    "print(\"Ответ:\", dispers(arr))"
   ]
  },
  {
   "cell_type": "markdown",
   "id": "83d01e46",
   "metadata": {},
   "source": [
    "2. В первом ящике находится 8 мячей, из которых 5 - белые. Во втором ящике - 12 мячей, из которых 5 белых. Из первого ящика вытаскивают случайным образом два мяча, из второго - 4. Какова вероятность того, что 3 мяча белые?"
   ]
  },
  {
   "cell_type": "markdown",
   "id": "f8c9eb42",
   "metadata": {},
   "source": [
    "Воспользуемся формулой  \n",
    "$$ P = \\frac{C_k^K * C_{n - k}^{N - K}}{C_n^N} $$"
   ]
  },
  {
   "cell_type": "markdown",
   "id": "8f8fc9b3",
   "metadata": {},
   "source": [
    "Пусть A это искомое сбытие, тогда сделаем несколько предположений:"
   ]
  },
  {
   "cell_type": "markdown",
   "id": "340092fd",
   "metadata": {},
   "source": [
    "a) Из первой карзины вытащили 0 белых, а из второй 3 белых мяча.  \n",
    "$$ P(A_1) = \\frac{C_3^2}{C_8^2}*\\frac{C_5^3 * C_7^1}{C_{12}^4} $$"
   ]
  },
  {
   "cell_type": "code",
   "execution_count": 28,
   "id": "8fe99099",
   "metadata": {},
   "outputs": [],
   "source": [
    "def combinations(n, k):\n",
    "    return factorial(n) / (factorial(k) * factorial(n - k))"
   ]
  },
  {
   "cell_type": "code",
   "execution_count": 29,
   "id": "3f0bbdfa",
   "metadata": {},
   "outputs": [
    {
     "data": {
      "text/plain": [
       "0.01515151515151515"
      ]
     },
     "execution_count": 29,
     "metadata": {},
     "output_type": "execute_result"
    }
   ],
   "source": [
    "P1 = (combinations(3,2)/combinations(8,2))*(combinations(5,3)*combinations(7,1)/combinations(12,4))\n",
    "P1"
   ]
  },
  {
   "cell_type": "markdown",
   "id": "bee71e15",
   "metadata": {},
   "source": [
    "b) Из первой карзины вытащили 1 белый, а из второй 2 белых мяча.\n",
    "$$ P(A_2) = \\frac{C_5^1*C_3^1}{C_8^2}*\\frac{C_5^2 * C_7^2}{C_{12}^4} $$"
   ]
  },
  {
   "cell_type": "code",
   "execution_count": 30,
   "id": "1ce000fd",
   "metadata": {},
   "outputs": [
    {
     "data": {
      "text/plain": [
       "0.22727272727272727"
      ]
     },
     "execution_count": 30,
     "metadata": {},
     "output_type": "execute_result"
    }
   ],
   "source": [
    "P2 = (combinations(5,1)*combinations(3,1)*combinations(5,2)*combinations(7,2))/(combinations(8,2)*combinations(12,4))\n",
    "P2"
   ]
  },
  {
   "cell_type": "markdown",
   "id": "4851cb60",
   "metadata": {},
   "source": [
    "c) Из первой карзины вытащили 2 белых, а из второй 1 белый мяч.\n",
    "$$ P(A_3) = \\frac{C_5^2}{C_8^2}*\\frac{C_5^1 * C_7^3}{C_{12}^4} $$"
   ]
  },
  {
   "cell_type": "code",
   "execution_count": 31,
   "id": "dc3ba9e3",
   "metadata": {},
   "outputs": [
    {
     "data": {
      "text/plain": [
       "0.12626262626262627"
      ]
     },
     "execution_count": 31,
     "metadata": {},
     "output_type": "execute_result"
    }
   ],
   "source": [
    "P3 = (combinations(5,2)/combinations(8,2))*(combinations(5,1)*combinations(7,3)/combinations(12,4))\n",
    "P3"
   ]
  },
  {
   "cell_type": "markdown",
   "id": "c351f997",
   "metadata": {},
   "source": [
    "Вычислим вероятность того, что из вытащенных мячей 3 мяча белые  \n",
    "$$ P(A) = P(A_1 + A_2 + A_3) = P(A_1) + P(A_2) + P(A_3) $$"
   ]
  },
  {
   "cell_type": "code",
   "execution_count": 32,
   "id": "1a896a52",
   "metadata": {},
   "outputs": [
    {
     "name": "stdout",
     "output_type": "stream",
     "text": [
      "Ответ:  0.3687\n"
     ]
    }
   ],
   "source": [
    "print(f\"Ответ: {P1 + P2 + P3: .4f}\")"
   ]
  },
  {
   "cell_type": "markdown",
   "id": "6eda104e",
   "metadata": {},
   "source": [
    "3. На соревновании по биатлону один из трех спортсменов стреляет и попадает в мишень. Вероятность попадания для первого спортсмена равна 0.9, для второго — 0.8, для третьего — 0.6. Найти вероятность того, что выстрел произведен: a). первым спортсменом б). вторым спортсменом в). третьим спортсменом."
   ]
  },
  {
   "cell_type": "markdown",
   "id": "83917863",
   "metadata": {},
   "source": [
    "Пусть A это искомое событие выстрел порозил цель.  \n",
    "Сделаем несколько предположений:  \n",
    "A1 выстрел произведен первым спортсменом  \n",
    "A2 выстрел произведен вторым спортсменом  \n",
    "A3 выстрел произведен третьим спортсменом  \n",
    "Так как выстрел только 1 и его произвел один из 3 спортсменов, то следует  \n",
    "P(A1) = P(A2) = P(A3) = $ \\frac{1}{3} $  \n",
    "Вероятность того, что произошло событие A, при условии наступления события An даны в задаче  \n",
    "$ P_{A1}(A) = 0.9 $  \n",
    "$ P_{A2}(A) = 0.8 $  \n",
    "$ P_{A3}(A) = 0.6 $  \n",
    "По формуле полной вероятности вычислим вероятность наступления события A  \n",
    "$P(A)=P(A1)*P_{A1}(A)+P(A2)*P_{A2}(A)+P(A3)*P_{A3}(A)=\\frac{1}{3}*0.9+\\frac{1}{3}*0.8+\\frac{1}{3}*0.6=0.7667$"
   ]
  },
  {
   "cell_type": "code",
   "execution_count": 34,
   "id": "5b0b9b29",
   "metadata": {},
   "outputs": [
    {
     "name": "stdout",
     "output_type": "stream",
     "text": [
      "Полная вероятность наступления события P(A) = 0.7667\n"
     ]
    }
   ],
   "source": [
    "Pn = 1/3\n",
    "PA = Pn * 0.9 + Pn * 0.8 + Pn * 0.6\n",
    "print(f\"Полная вероятность наступления события P(A) = {PA:.4f}\")"
   ]
  },
  {
   "cell_type": "markdown",
   "id": "5af68371",
   "metadata": {},
   "source": [
    "Если событие A уже произошло, то по формуле Байеса оценим вероятность, что имело место одно из событий An  \n",
    "$ P_A(An) = \\frac{P(An)*P_{An}(A)}{P(A)} $  \n",
    "$ P_A(A1) = \\frac{\\frac{1}{3}*0.9}{0.7667} $  \n",
    "$ P_A(A2) = \\frac{\\frac{1}{3}*0.8}{0.7667} $  \n",
    "$ P_A(A3) = \\frac{\\frac{1}{3}*0.6}{0.7667} $"
   ]
  },
  {
   "cell_type": "code",
   "execution_count": 40,
   "id": "014e2026",
   "metadata": {},
   "outputs": [
    {
     "name": "stdout",
     "output_type": "stream",
     "text": [
      "Ответ: вероятность того, что выстрелил \n",
      "первый спортсмен 0.3913, \n",
      "второй спортсмен 0.3478, \n",
      "третий спортсмен 0.2609\n"
     ]
    }
   ],
   "source": [
    "PAA1 = Pn * 0.9 / PA\n",
    "PAA2 = Pn * 0.8 / PA\n",
    "PAA3 = Pn * 0.6 / PA\n",
    "print(f\"Ответ: вероятность того, что выстрелил \\nпервый спортсмен {PAA1:.4f}, \\nвторой спортсмен {PAA2:.4f}, \\nтретий спортсмен {PAA3:.4f}\")"
   ]
  },
  {
   "cell_type": "markdown",
   "id": "a0e9f47b",
   "metadata": {},
   "source": [
    "4. В университет на факультеты A и B поступило равное количество студентов, а на факультет C студентов поступило столько же, сколько на A и B вместе. Вероятность того, что студент факультета A сдаст первую сессию, равна 0.8. Для студента факультета B эта вероятность равна 0.7, а для студента факультета C - 0.9. Студент сдал первую сессию. Какова вероятность, что он учится: a). на факультете A б). на факультете B в). на факультете C?"
   ]
  },
  {
   "cell_type": "markdown",
   "id": "87b3cd6f",
   "metadata": {},
   "source": [
    "n - студентов на факультете A  \n",
    "n - студентов на факультете B  \n",
    "2 * n - студентов на факультете C  \n",
    "SA - сессию сдал студент с факультете A  \n",
    "SB - сессию сдал студент с факультете B  \n",
    "SC - сессию сдал студент с факультете C  \n",
    "D - событие сессия сдана  \n",
    "События SA, SB, SC образуют полную группу событий  \n",
    "P(SA) + P(SB) + P(SC) = 1  \n",
    "1/n  + 1/n + 1/2n = 1  \n",
    "n = 2.5  \n",
    "P(SA) = 1/n = 0.25  \n",
    "P(SB) = 1/n = 0.25  \n",
    "P(SC) = 1/2n = 0.5  \n",
    "Найдем D используя формулу полной вероятности  \n",
    "P(D) = 0.25 * 0.8 + 0.25 * 0.7 + 0.5 * 0.9"
   ]
  },
  {
   "cell_type": "code",
   "execution_count": 41,
   "id": "ba90a3bf",
   "metadata": {},
   "outputs": [
    {
     "data": {
      "text/plain": [
       "0.825"
      ]
     },
     "execution_count": 41,
     "metadata": {},
     "output_type": "execute_result"
    }
   ],
   "source": [
    "PD = 0.25 * 0.8 + 0.25 * 0.7 + 0.5 * 0.9\n",
    "PD"
   ]
  },
  {
   "cell_type": "markdown",
   "id": "9a38cf96",
   "metadata": {},
   "source": [
    "По формуле Байеса найдем на каком факультете вероятно учится студент сдавший сессию."
   ]
  },
  {
   "cell_type": "code",
   "execution_count": 43,
   "id": "25940a46",
   "metadata": {},
   "outputs": [
    {
     "name": "stdout",
     "output_type": "stream",
     "text": [
      "Ответ: A 0.2424\n",
      " B 0.2121\n",
      " C 0.5455\n"
     ]
    }
   ],
   "source": [
    "PDSA = 0.25 * 0.8 / PD\n",
    "PDSB = 0.25 * 0.7 / PD\n",
    "PDSC = 0.5 * 0.9 / PD\n",
    "print(f\"Ответ: A {PDSA:.4f}\\n B {PDSB:.4f}\\n C {PDSC:.4f}\")"
   ]
  },
  {
   "cell_type": "markdown",
   "id": "7d6245f1",
   "metadata": {},
   "source": [
    "5. Устройство состоит из трех деталей. Для первой детали вероятность выйти из строя в первый месяц равна 0.1, для второй - 0.2, для третьей - 0.25. Какова вероятность того, что в первый месяц выйдут из строя: а). все детали б). только две детали в). хотя бы одна деталь г). от одной до двух деталей?"
   ]
  },
  {
   "cell_type": "markdown",
   "id": "af59dc79",
   "metadata": {},
   "source": [
    "Введем следующие события:  \n",
    "A1  \n",
    "P(A1) = 0.1  \n",
    "A2  \n",
    "P(A2) = 0.2  \n",
    "A3  \n",
    "P(A3) = 0.25  \n",
    "Противоположные события:  \n",
    "$ P(\\bar{A1}) = 1 - P(A1) = 1 - 0.1 = 0.9 $  \n",
    "$ P(\\bar{A2}) = 1 - P(A2) = 1 - 0.2 = 0.8 $  \n",
    "$ P(\\bar{A3}) = 1 - P(A3) = 1 - 0.25 = 0.75 $"
   ]
  },
  {
   "cell_type": "markdown",
   "id": "0f3be62e",
   "metadata": {},
   "source": [
    "а) Найдем вероятность, что вышли из строя все детали P(B3)  \n",
    "P(B3) = P(A1) * P(A2) * P(A3) = 0.1 * 0.2 * 0.25"
   ]
  },
  {
   "cell_type": "code",
   "execution_count": 48,
   "id": "f15939e3",
   "metadata": {},
   "outputs": [
    {
     "name": "stdout",
     "output_type": "stream",
     "text": [
      "Вероятность того, что из строя выйдут все детали P(B3) = 0.0050\n"
     ]
    }
   ],
   "source": [
    "PB3 = 0.1 * 0.2 * 0.25\n",
    "print(f\"Вероятность того, что из строя выйдут все детали P(B3) = {PB3:.4f}\")"
   ]
  },
  {
   "cell_type": "markdown",
   "id": "326029ae",
   "metadata": {},
   "source": [
    "б) Для того, чтобы произошло событие \"вышли из строя 2 детали\", необходимо что бы случилось одна из следующих комбинаций событий:  \n",
    "$ A1, A2, \\bar{A3} $  \n",
    "$ A1, \\bar{A2}, A3 $  \n",
    "$ \\bar{A1}, A2, A3 $  \n",
    "$ P(B2)=P(A1)*P(A2)*P(\\bar{A3})+P(A1)*P(\\bar{A2})*P(A3)+P(\\bar{A1})*P(A2)*P(A3)=0.1*0.2*0.75+0.1*0.8*0.25+0.9*0.2*0.25=0.08 $"
   ]
  },
  {
   "cell_type": "code",
   "execution_count": 49,
   "id": "c755750c",
   "metadata": {},
   "outputs": [
    {
     "name": "stdout",
     "output_type": "stream",
     "text": [
      "Вероятность того, что из строя выйдут только 2 детали Р(B2) = 0.0800\n"
     ]
    }
   ],
   "source": [
    "PB2=0.1*0.2*0.75+0.1*0.8*0.25+0.9*0.2*0.25\n",
    "print(f'Вероятность того, что из строя выйдут только 2 детали Р(B2) = {PB2:.4f}')"
   ]
  },
  {
   "cell_type": "markdown",
   "id": "6b52006d",
   "metadata": {},
   "source": [
    "в) Событие \"выйдет из строя хотя бы одна деталь\" можно рассмотреть как противоположное событию \"не вышло из строя ни одной детали\".  \n",
    "Пусть P(B0) вероятность события \"не вышло из строя ни одной детали\". Данное событие может произойти при одновременном наступлении событий $ \\bar{A1}, \\bar{A2}, \\bar{A3} $.  \n",
    "$ P(B0) = P(\\bar{A1})*P(\\bar{A2})*P(\\bar{A3}) = 0.9*0.8*0.75 = 0.54 $"
   ]
  },
  {
   "cell_type": "code",
   "execution_count": 53,
   "id": "ea18876f",
   "metadata": {},
   "outputs": [
    {
     "name": "stdout",
     "output_type": "stream",
     "text": [
      "Вероятность того, что из строя не выйдет ни одной детали Р(B0) = 0.5400\n"
     ]
    }
   ],
   "source": [
    "PB0=0.9*0.8*0.75\n",
    "print(f\"Вероятность того, что из строя не выйдет ни одной детали Р(B0) = {PB0:.4f}\")"
   ]
  },
  {
   "cell_type": "markdown",
   "id": "3e6d4e78",
   "metadata": {},
   "source": [
    "Тогда вероятность события выйдет из строя хотя бы одна деталь P(B1) = 1-P(B0)"
   ]
  },
  {
   "cell_type": "code",
   "execution_count": 54,
   "id": "cfc7119f",
   "metadata": {},
   "outputs": [
    {
     "name": "stdout",
     "output_type": "stream",
     "text": [
      "Вероятность того, что выйдет из строя хотя бы одна деталь Р(B1) = 0.4600\n"
     ]
    }
   ],
   "source": [
    "PB1=1-PB0\n",
    "print(f\"Вероятность того, что выйдет из строя хотя бы одна деталь Р(B1) = {PB1:.4f}\")"
   ]
  },
  {
   "cell_type": "markdown",
   "id": "1f60b40e",
   "metadata": {},
   "source": [
    "г) Событие \"из строя выйдут от одной до двух деталей\" произойдет при наступлении события \"из строя выйдет одна деталь\" или из строя выйдут 2 детали, следовательно его вероятность будет равна сумме вероятностей этих событий:  \n",
    "P(B1,B2) = P(B1) + P(B2)  \n",
    "P(B2) = 0.08  \n",
    "найдем P(B1)"
   ]
  },
  {
   "cell_type": "markdown",
   "id": "f6ccbbe5",
   "metadata": {},
   "source": [
    "$ P(B1)=P(A1)*P(\\bar{A2})*P(\\bar{A3})+P(\\bar{A1})*P(A2)*P(\\bar{A3})+P(\\bar{A1})*P(\\bar{A2})*P(A3)=0.1*0.8*0.75+0.9*0.2*0.75+0.9*0.8*0.25=0.375 $"
   ]
  },
  {
   "cell_type": "code",
   "execution_count": 55,
   "id": "69be7b7a",
   "metadata": {},
   "outputs": [
    {
     "name": "stdout",
     "output_type": "stream",
     "text": [
      "Вероятность того, что выйдет из строя одна деталь Р(B1) = 0.3750\n"
     ]
    }
   ],
   "source": [
    "PB1=0.1*0.8*0.75+0.9*0.2*0.75+0.9*0.8*0.25\n",
    "print(f\"Вероятность того, что выйдет из строя одна деталь Р(B1) = {PB1:.4f}\")"
   ]
  }
 ],
 "metadata": {
  "kernelspec": {
   "display_name": "Python 3 (ipykernel)",
   "language": "python",
   "name": "python3"
  },
  "language_info": {
   "codemirror_mode": {
    "name": "ipython",
    "version": 3
   },
   "file_extension": ".py",
   "mimetype": "text/x-python",
   "name": "python",
   "nbconvert_exporter": "python",
   "pygments_lexer": "ipython3",
   "version": "3.9.12"
  }
 },
 "nbformat": 4,
 "nbformat_minor": 5
}
