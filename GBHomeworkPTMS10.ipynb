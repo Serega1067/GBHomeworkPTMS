{
 "cells": [
  {
   "cell_type": "markdown",
   "id": "ee6b2c72",
   "metadata": {},
   "source": [
    "# Урок 10. Дисперсионный анализ."
   ]
  },
  {
   "cell_type": "markdown",
   "id": "0f6df8e7",
   "metadata": {},
   "source": [
    "1. Провести дисперсионный анализ для определения того, есть ли различия среднего роста среди взрослых футболистов, хоккеистов и штангистов. Даны значения роста в трех группах случайно выбранных спортсменов:  \n",
    "Футболисты: 173, 175, 180, 178, 177, 185, 183, 182.  \n",
    "Хоккеисты: 177, 179, 180, 188, 177, 172, 171, 184, 180.  \n",
    "Штангисты: 172, 173, 169, 177, 166, 180, 178, 177, 172, 166, 170."
   ]
  },
  {
   "cell_type": "code",
   "execution_count": 9,
   "id": "79e53f8b",
   "metadata": {},
   "outputs": [],
   "source": [
    "import numpy as np\n",
    "import pandas as pd\n",
    "from scipy import stats"
   ]
  },
  {
   "cell_type": "code",
   "execution_count": 10,
   "id": "3fec9cef",
   "metadata": {},
   "outputs": [],
   "source": [
    "football = ([173, 175, 180, 178, 177, 185, 183, 182])\n",
    "hockey = ([177, 179, 180, 188, 177, 172, 171, 184, 180])\n",
    "weightlifters = ([172, 173, 169, 177, 166, 180, 178, 177, 172, 166, 170])"
   ]
  },
  {
   "cell_type": "markdown",
   "id": "d72aa097",
   "metadata": {},
   "source": [
    "Нулевая гипотеза, что средний рост не зависит от представленного вида спорта.  \n",
    "$ H0:\\mu_1=\\mu_2=\\mu_3 $  \n",
    "Альтернативная гипотеза, что средний рост спортсмена зависит от представленного вида спорта.  \n",
    "$ H1:\\mu_1\\neq\\mu_2\\neq\\mu_3 $  \n",
    "Для решения возьмём встроенный метод однофакторного дисперсионного анализа из библиотеки scipy."
   ]
  },
  {
   "cell_type": "code",
   "execution_count": 11,
   "id": "32c9e999",
   "metadata": {},
   "outputs": [
    {
     "data": {
      "text/plain": [
       "F_onewayResult(statistic=5.500053450812596, pvalue=0.010482206918698694)"
      ]
     },
     "execution_count": 11,
     "metadata": {},
     "output_type": "execute_result"
    }
   ],
   "source": [
    "stats.f_oneway(football, hockey, weightlifters)"
   ]
  },
  {
   "cell_type": "markdown",
   "id": "03147dc9",
   "metadata": {},
   "source": [
    "Ответ:  \n",
    "p-value = 0.01048,  \n",
    "если уровень статистической значимости $ \\alpha=0.05 $ то отвергаем нулевую теорию.  \n",
    "То есть средний рост спортсмена зависит от представленного вида спорта."
   ]
  },
  {
   "cell_type": "markdown",
   "id": "34003419",
   "metadata": {},
   "source": [
    "2. В одной группе из 100 больных наблюдалось улучшение у 75, а в другой из 100 больных среди 69. Оценить с помощью доверительного интервала разность долей больных, у которых наблюдались улучшения."
   ]
  },
  {
   "cell_type": "markdown",
   "id": "210f9db2",
   "metadata": {},
   "source": [
    "Интервал разности долей находим по формуле  \n",
    "$ \\Delta\\pm z_{a/2}*S_\\Delta $, где  \n",
    "$ \\Delta $ - разность долей (df)  \n",
    "$ S_\\Delta $ - стандартная ошибко разности долей"
   ]
  },
  {
   "cell_type": "code",
   "execution_count": 26,
   "id": "25f0a049",
   "metadata": {},
   "outputs": [],
   "source": [
    "n1 = 75  # больные из первой группы у которых наблюдалось улучшение\n",
    "m1 = 100 # всего больных в первой группе\n",
    "n2 = 69  # больные из второй группы у которых наблюдалось улучшение\n",
    "m2 = 100 # всего больных во второй группе\n",
    "z = 1.96 # находим по таблице"
   ]
  },
  {
   "cell_type": "code",
   "execution_count": 27,
   "id": "fc2ebab7",
   "metadata": {},
   "outputs": [
    {
     "data": {
      "text/plain": [
       "0.75"
      ]
     },
     "execution_count": 27,
     "metadata": {},
     "output_type": "execute_result"
    }
   ],
   "source": [
    "p1 = n1/m1\n",
    "p1"
   ]
  },
  {
   "cell_type": "code",
   "execution_count": 28,
   "id": "4910e769",
   "metadata": {},
   "outputs": [
    {
     "data": {
      "text/plain": [
       "0.69"
      ]
     },
     "execution_count": 28,
     "metadata": {},
     "output_type": "execute_result"
    }
   ],
   "source": [
    "p2 = n2/m2\n",
    "p2"
   ]
  },
  {
   "cell_type": "code",
   "execution_count": 29,
   "id": "18ef6d54",
   "metadata": {},
   "outputs": [
    {
     "data": {
      "text/plain": [
       "0.06000000000000005"
      ]
     },
     "execution_count": 29,
     "metadata": {},
     "output_type": "execute_result"
    }
   ],
   "source": [
    "df = p1 - p2\n",
    "df"
   ]
  },
  {
   "cell_type": "markdown",
   "id": "c2e18724",
   "metadata": {},
   "source": [
    "Найдём общую долю Pg"
   ]
  },
  {
   "cell_type": "code",
   "execution_count": 30,
   "id": "e54dde4e",
   "metadata": {},
   "outputs": [
    {
     "data": {
      "text/plain": [
       "0.72"
      ]
     },
     "execution_count": 30,
     "metadata": {},
     "output_type": "execute_result"
    }
   ],
   "source": [
    "Pg = (n1 + n2)/(m1 + m2)\n",
    "Pg"
   ]
  },
  {
   "cell_type": "markdown",
   "id": "32a116eb",
   "metadata": {},
   "source": [
    "Найдём стандартную ошибку разности долей Sd"
   ]
  },
  {
   "cell_type": "code",
   "execution_count": 31,
   "id": "8aa2be7e",
   "metadata": {},
   "outputs": [
    {
     "data": {
      "text/plain": [
       "0.07489819177012742"
      ]
     },
     "execution_count": 31,
     "metadata": {},
     "output_type": "execute_result"
    }
   ],
   "source": [
    "Sd = np.sqrt(Pg*(1-Pg)*(1/n1+1/n2))\n",
    "Sd"
   ]
  },
  {
   "cell_type": "markdown",
   "id": "e75a4ed9",
   "metadata": {},
   "source": [
    "Вычислим интервал  \n",
    "$ 0.06\\pm1.96*0.075 $"
   ]
  },
  {
   "cell_type": "code",
   "execution_count": 32,
   "id": "8c7f96d3",
   "metadata": {},
   "outputs": [
    {
     "data": {
      "text/plain": [
       "0.2068004558694498"
      ]
     },
     "execution_count": 32,
     "metadata": {},
     "output_type": "execute_result"
    }
   ],
   "source": [
    "df + z * Sd"
   ]
  },
  {
   "cell_type": "code",
   "execution_count": 33,
   "id": "626d639c",
   "metadata": {},
   "outputs": [
    {
     "data": {
      "text/plain": [
       "-0.0868004558694497"
      ]
     },
     "execution_count": 33,
     "metadata": {},
     "output_type": "execute_result"
    }
   ],
   "source": [
    "df - z * Sd"
   ]
  },
  {
   "cell_type": "markdown",
   "id": "4ff8e89f",
   "metadata": {},
   "source": [
    "Ответ:  \n",
    "[-0.087; 0.207]"
   ]
  },
  {
   "cell_type": "markdown",
   "id": "fefe1903",
   "metadata": {},
   "source": [
    "3. Какова вероятность, что в наудачу выбранном двузначном числе цифры одинаковые?"
   ]
  },
  {
   "cell_type": "markdown",
   "id": "77c9b3f7",
   "metadata": {},
   "source": [
    "Двузначных чисел 90 (10 - 99)  \n",
    "Одинаковые цифры в 9 числах (11, 22, 33, 44, 55, 66, 77, 88, 99)"
   ]
  },
  {
   "cell_type": "code",
   "execution_count": 34,
   "id": "2589f232",
   "metadata": {},
   "outputs": [
    {
     "data": {
      "text/plain": [
       "0.1"
      ]
     },
     "execution_count": 34,
     "metadata": {},
     "output_type": "execute_result"
    }
   ],
   "source": [
    "res = 9/90\n",
    "res"
   ]
  },
  {
   "cell_type": "markdown",
   "id": "54a5e14b",
   "metadata": {},
   "source": [
    "Ответ:  \n",
    "вероятность 0.1"
   ]
  }
 ],
 "metadata": {
  "kernelspec": {
   "display_name": "Python 3 (ipykernel)",
   "language": "python",
   "name": "python3"
  },
  "language_info": {
   "codemirror_mode": {
    "name": "ipython",
    "version": 3
   },
   "file_extension": ".py",
   "mimetype": "text/x-python",
   "name": "python",
   "nbconvert_exporter": "python",
   "pygments_lexer": "ipython3",
   "version": "3.9.12"
  }
 },
 "nbformat": 4,
 "nbformat_minor": 5
}
